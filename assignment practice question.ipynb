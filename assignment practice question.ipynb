{
 "cells": [
  {
   "cell_type": "markdown",
   "id": "85589080-49fb-41e0-9d41-c3b62049e638",
   "metadata": {},
   "source": [
    "## 1. Check if a given string is a palindrome."
   ]
  },
  {
   "cell_type": "code",
   "execution_count": 1,
   "id": "c836458b-f4da-417d-b654-dba951c3b962",
   "metadata": {},
   "outputs": [
    {
     "name": "stdin",
     "output_type": "stream",
     "text": [
      "enter a string: nitin\n"
     ]
    },
    {
     "name": "stdout",
     "output_type": "stream",
     "text": [
      "string is palindrome\n"
     ]
    }
   ],
   "source": [
    "\n",
    "str=input(\"enter a string:\")\n",
    "if str==str[::-1]:\n",
    "    print(\"string is palindrome\")\n",
    "else:\n",
    "    print(\"string is not palindrome\")\n"
   ]
  },
  {
   "cell_type": "markdown",
   "id": "7df7d51a-a62e-4f15-90cd-9911239df025",
   "metadata": {},
   "source": [
    "## 2. Count the number of vowels in a string and store the result in a dictionary.\n"
   ]
  },
  {
   "cell_type": "code",
   "execution_count": 32,
   "id": "50b62206-1666-4d43-ab83-4dbc40727795",
   "metadata": {},
   "outputs": [],
   "source": [
    "def count_vowels(word):\n",
    "    \"\"\"This Function count the vowel in the word.\"\"\"\n",
    "    word = word.lower()\n",
    "    a = e = i = o = u = 0\n",
    "    for ch in word:\n",
    "        if ch == \"a\":\n",
    "            a += 1\n",
    "        elif ch == \"e\":\n",
    "            e += 1\n",
    "        elif ch == \"i\":\n",
    "            i += 1\n",
    "        elif ch == \"o\":\n",
    "            o += 1\n",
    "        elif ch == \"u\":\n",
    "            u += 1\n",
    "            \n",
    "    return {\"a\": a, \"e\": e, \"i\": i, \"o\": o, \"u\": u}"
   ]
  },
  {
   "cell_type": "code",
   "execution_count": 40,
   "id": "0878232b-0697-4b15-8425-9d48a007d035",
   "metadata": {},
   "outputs": [
    {
     "data": {
      "text/plain": [
       "{'a': 1, 'e': 0, 'i': 1, 'o': 0, 'u': 0}"
      ]
     },
     "execution_count": 40,
     "metadata": {},
     "output_type": "execute_result"
    }
   ],
   "source": [
    "count_vowels(\"sakshi\")"
   ]
  },
  {
   "cell_type": "code",
   "execution_count": 41,
   "id": "023303c1-b954-4431-8964-38cbeb8582a2",
   "metadata": {},
   "outputs": [
    {
     "data": {
      "text/plain": [
       "{'a': 2, 'e': 1, 'i': 3, 'o': 0, 'u': 0}"
      ]
     },
     "execution_count": 41,
     "metadata": {},
     "output_type": "execute_result"
    }
   ],
   "source": [
    "\n",
    "\n",
    "count_vowels(\" hi my name is sakshi\")"
   ]
  },
  {
   "cell_type": "code",
   "execution_count": 35,
   "id": "6c222359-1549-4ab3-b7b8-f50f86376c1f",
   "metadata": {},
   "outputs": [
    {
     "name": "stdout",
     "output_type": "stream",
     "text": [
      "{'a': 1, 'e': 1, 'i': 1, 'o': 1, 'u': 1}\n",
      "{'a': 1, 'e': 1, 'i': 1, 'o': 1, 'u': 1}\n",
      "{'a': 1, 'e': 1, 'i': 1, 'o': 1, 'u': 1}\n",
      "{'a': 1, 'e': 1, 'i': 1, 'o': 1, 'u': 1}\n",
      "{'a': 1, 'e': 1, 'i': 1, 'o': 1, 'u': 1}\n"
     ]
    }
   ],
   "source": [
    "s = \"education\"\n",
    "vowels = \"aeiou\"\n",
    "count = {v:s.count(v) for v in vowels}\n",
    "for v in vowels:\n",
    "    print(count)"
   ]
  },
  {
   "cell_type": "markdown",
   "id": "432e867d-2d0a-4315-a835-bbb7f9242ef1",
   "metadata": {},
   "source": [
    "## 3. Convert the first letter of each word in a string to uppercase (title case manually)."
   ]
  },
  {
   "cell_type": "code",
   "execution_count": 2,
   "id": "23050fa0-09b8-4d91-8e4e-4e888872719c",
   "metadata": {},
   "outputs": [
    {
     "name": "stdin",
     "output_type": "stream",
     "text": [
      "enter a string: hello world\n"
     ]
    },
    {
     "name": "stdout",
     "output_type": "stream",
     "text": [
      "Hello World\n"
     ]
    }
   ],
   "source": [
    "str=input(\"enter a string:\")\n",
    "print(str.title())"
   ]
  },
  {
   "cell_type": "markdown",
   "id": "fb3c4b6d-e50b-4e05-a00c-994d7ac5d79a",
   "metadata": {},
   "source": [
    "## 4. Find the most frequently occurring character in a string."
   ]
  },
  {
   "cell_type": "code",
   "execution_count": 3,
   "id": "a1df097c-8be8-46bf-b2ac-04c47719f2c8",
   "metadata": {},
   "outputs": [
    {
     "name": "stdout",
     "output_type": "stream",
     "text": [
      "3\n"
     ]
    }
   ],
   "source": [
    "str= \"hello world\"\n",
    "print(str.count('l'))"
   ]
  },
  {
   "cell_type": "markdown",
   "id": "488f9888-2c5b-4989-82c3-5b0efddf3601",
   "metadata": {},
   "source": [
    "## 5. Count digits, alphabets, and special characters separately in a string.\n"
   ]
  },
  {
   "cell_type": "code",
   "execution_count": 38,
   "id": "21508fc1-0f0a-43d7-a3e4-e53eb16e1a52",
   "metadata": {},
   "outputs": [
    {
     "name": "stdin",
     "output_type": "stream",
     "text": [
      "Enter a string: hello@world!12\n"
     ]
    },
    {
     "name": "stdout",
     "output_type": "stream",
     "text": [
      "alphabet 10 digit 2 special 2\n"
     ]
    }
   ],
   "source": [
    "w = input(\"Enter a string:\")\n",
    "digit = 0\n",
    "alphabet = 0\n",
    "special = 0\n",
    "\n",
    "for ch in w:\n",
    "    if ch.isalpha():\n",
    "        alphabet += 1\n",
    "    elif ch.isdigit():\n",
    "        digit += 1\n",
    "    else:\n",
    "        special += 1   \n",
    "print(\"alphabet\",alphabet,\"digit\",digit,\"special\",special)"
   ]
  },
  {
   "cell_type": "markdown",
   "id": "a4dd5a7e-6438-4305-9521-eb1b3be0ed29",
   "metadata": {},
   "source": [
    "## 6. Remove duplicate elements from a list without using set()"
   ]
  },
  {
   "cell_type": "code",
   "execution_count": 4,
   "id": "0b4500b5-1667-4bde-85c7-6b96b19ecdbb",
   "metadata": {},
   "outputs": [
    {
     "name": "stdout",
     "output_type": "stream",
     "text": [
      "['banana', 'apple']\n"
     ]
    }
   ],
   "source": [
    "fruits=[\"apple\",\"banana\",\"apple\"]\n",
    "fruits.remove(\"apple\")\n",
    "print(fruits)"
   ]
  },
  {
   "cell_type": "markdown",
   "id": "a5ac250b-953a-43fb-a3b4-c63c7f7f8bd8",
   "metadata": {},
   "source": [
    "## 7.Reverse a list without using built-in functions."
   ]
  },
  {
   "cell_type": "code",
   "execution_count": 42,
   "id": "76e9a412-8d19-4a06-b4fb-2b57c4f7231a",
   "metadata": {},
   "outputs": [
    {
     "name": "stdout",
     "output_type": "stream",
     "text": [
      "[1, 2, 3, 4, 5, 6, 7, 8, 9, 0]\n"
     ]
    }
   ],
   "source": [
    "list = [0,9,8,7,6,5,4,3,2,1]\n",
    "list = list[::-1]\n",
    "print(list)"
   ]
  },
  {
   "cell_type": "markdown",
   "id": "c72fee1b-e5de-46aa-bcd6-febcaaefeb66",
   "metadata": {},
   "source": [
    "## 8. Find the 2nd largest and 2nd smallest element in a list.\n"
   ]
  },
  {
   "cell_type": "code",
   "execution_count": 43,
   "id": "b8dde0da-1f28-4865-86ae-4747e8a2756a",
   "metadata": {},
   "outputs": [
    {
     "name": "stdout",
     "output_type": "stream",
     "text": [
      "2nd smallest: 20 2nd largest: 400\n",
      "[1, 20, 21, 34, 55, 98, 400, 12456]\n"
     ]
    }
   ],
   "source": [
    "numbers = [55,21,98,400,12456,34,1,20]\n",
    "n = sorted(numbers)\n",
    "second_smallest = n[1]\n",
    "second_largest = n[-2]\n",
    "\n",
    "print(\"2nd smallest:\",second_smallest,\"2nd largest:\",second_largest)\n",
    "print(n)\n",
    "\n"
   ]
  },
  {
   "cell_type": "markdown",
   "id": "0cd6e3f8-62d8-4c3e-8789-15a1bc507256",
   "metadata": {},
   "source": [
    "## 9. Store the square of each element of a list into a new list (using list comprehension)."
   ]
  },
  {
   "cell_type": "code",
   "execution_count": 44,
   "id": "b93c429f-c99b-4519-8126-8973ce17864a",
   "metadata": {},
   "outputs": [
    {
     "data": {
      "text/plain": [
       "[1, 4, 9, 16, 25, 36, 49, 64, 81, 100]"
      ]
     },
     "execution_count": 44,
     "metadata": {},
     "output_type": "execute_result"
    }
   ],
   "source": [
    "l1 = [1,2,3,4,5,6,7,8,9,10]\n",
    "[i**2 for i in l1]"
   ]
  },
  {
   "cell_type": "markdown",
   "id": "716d3886-5173-4201-9b06-82a5b8694c17",
   "metadata": {},
   "source": [
    "## 10. Flatten a nested list into a single list."
   ]
  },
  {
   "cell_type": "code",
   "execution_count": 45,
   "id": "14c557d8-d976-4c69-98ad-99ce901b2b3b",
   "metadata": {},
   "outputs": [
    {
     "data": {
      "text/plain": [
       "[1, 2, 3, 4, 5, 6]"
      ]
     },
     "execution_count": 45,
     "metadata": {},
     "output_type": "execute_result"
    }
   ],
   "source": [
    "nested = [[1,2],[3,4],[5,6]] # 1st way \n",
    "[x for sub in nested for x in sub]\n"
   ]
  },
  {
   "cell_type": "code",
   "execution_count": 46,
   "id": "78476d74-8d6b-43f9-940e-aefd45be444e",
   "metadata": {},
   "outputs": [
    {
     "name": "stdout",
     "output_type": "stream",
     "text": [
      "[1, 2, 3, 4, 5, 6]\n"
     ]
    }
   ],
   "source": [
    "l1 = [[1,2],[3,4],[5,6]] # 2nd way\n",
    "list = []\n",
    "for i in l1:\n",
    "    for j in i:\n",
    "        list.append(j)\n",
    "print(list)"
   ]
  },
  {
   "cell_type": "markdown",
   "id": "07e23d65-1bd8-494a-b619-65a19fc19715",
   "metadata": {},
   "source": [
    "## 11. Reverse a tuple without using [::-1]."
   ]
  },
  {
   "cell_type": "code",
   "execution_count": 5,
   "id": "7ea326c7-5143-4251-b56b-afa2f0d62282",
   "metadata": {},
   "outputs": [
    {
     "name": "stdout",
     "output_type": "stream",
     "text": [
      "['grapes', 'banana', 'apple']\n"
     ]
    }
   ],
   "source": [
    "fruits=[\"apple\",\"banana\",\"grapes\"]\n",
    "fruits.reverse()\n",
    "print(fruits)"
   ]
  },
  {
   "cell_type": "markdown",
   "id": "af2dd229-ac12-4c56-a490-a71bf247320a",
   "metadata": {},
   "source": [
    "## 12. Extract unique elements from a tuple and store them in a new list."
   ]
  },
  {
   "cell_type": "code",
   "execution_count": 47,
   "id": "3cf2dbe1-7c5e-4c18-952b-e5e3da52e471",
   "metadata": {},
   "outputs": [
    {
     "name": "stdout",
     "output_type": "stream",
     "text": [
      "[1, 'hii', 2, 4, False, [9, 8, 7, 6], 6, 7]\n"
     ]
    }
   ],
   "source": [
    "tuple = (1,\"hii\",True,2,4,False,[9,8,7,6],2,1,4,6,6,7)\n",
    "unique = []\n",
    "for i in tuple:\n",
    "    if i not in unique:\n",
    "        unique.append(i)\n",
    "print(unique)"
   ]
  },
  {
   "cell_type": "markdown",
   "id": "2be3f630-165e-4c5a-8542-2605303a41d9",
   "metadata": {},
   "source": [
    "## 13. Concatenate two tuples and sort them."
   ]
  },
  {
   "cell_type": "code",
   "execution_count": 6,
   "id": "dbfe7b77-7607-400d-941c-c78977405a1f",
   "metadata": {},
   "outputs": [
    {
     "name": "stdout",
     "output_type": "stream",
     "text": [
      "(1, 2, 6, 7, 4, 5, 3, 8)\n",
      "[1, 2, 3, 4, 5, 6, 7, 8]\n"
     ]
    }
   ],
   "source": [
    "t1=(1,2,6,7)\n",
    "t2=(4,5,3,8)\n",
    "print(t1+t2)\n",
    "t=(1,2,6,7,4,5,3,8)\n",
    "print(sorted(t))"
   ]
  },
  {
   "cell_type": "markdown",
   "id": "267359e3-bef7-4dc0-bed9-a1861d4bcd39",
   "metadata": {},
   "source": [
    "## 14. Count the frequency of an element in a tuple without using count()."
   ]
  },
  {
   "cell_type": "code",
   "execution_count": 50,
   "id": "a96f7c5f-2123-4d63-bac6-687911e7cb88",
   "metadata": {},
   "outputs": [
    {
     "name": "stdin",
     "output_type": "stream",
     "text": [
      "Enter the element: 5\n"
     ]
    },
    {
     "name": "stdout",
     "output_type": "stream",
     "text": [
      "element 5 -- count 4\n"
     ]
    }
   ],
   "source": [
    "a1 = (3,6,5,9,5,3,6,7,6,5,2,7,8,9,4,5,7,2,1,4) # 1st way\n",
    "element = int(input(\"Enter the element:\"))\n",
    "count = 0\n",
    "for i in a1:\n",
    "    if i == element:\n",
    "        count += 1\n",
    "print(\"element\",element,\"--\",\"count\",count)"
   ]
  },
  {
   "cell_type": "code",
   "execution_count": 51,
   "id": "2a4ce85f-f272-40b8-86e9-a2a5dce024ec",
   "metadata": {},
   "outputs": [
    {
     "name": "stdin",
     "output_type": "stream",
     "text": [
      "Enter the element: 4\n"
     ]
    },
    {
     "name": "stdout",
     "output_type": "stream",
     "text": [
      "Count 2\n"
     ]
    }
   ],
   "source": [
    "t = (3,6,5,9,5,3,6,7,6,5,2,7,8,9,4,5,7,2,1,4)  # 2nd way\n",
    "element = int(input(\"Enter the element:\"))\n",
    "count = sum(1 for x in t if x == element)\n",
    "print(\"Count\", count)"
   ]
  },
  {
   "cell_type": "markdown",
   "id": "40af8f28-9e86-4518-baf8-d7affb843201",
   "metadata": {},
   "source": [
    "## 15. From a tuple of numbers, create two tuples: one with even numbers and one with odd numbers"
   ]
  },
  {
   "cell_type": "code",
   "execution_count": 19,
   "id": "aeedaa87-04dc-42ed-a63c-859c522aa9bf",
   "metadata": {},
   "outputs": [
    {
     "name": "stdout",
     "output_type": "stream",
     "text": [
      "even (2, 4, 6, 8, 0)\n",
      "odd (1, 3, 5, 7, 9)\n"
     ]
    }
   ],
   "source": [
    "n = (1,2,3,4,5,6,7,8,9,0)\n",
    "even = []\n",
    "odd = []\n",
    "for i in n:\n",
    "    if i % 2 == 0:\n",
    "        even.append(i)\n",
    "    else:\n",
    "        odd.append(i)\n",
    "even = tuple(even)\n",
    "odd = tuple(odd)\n",
    "print(\"even\",even)\n",
    "print(\"odd\",odd)\n",
    "    "
   ]
  },
  {
   "cell_type": "code",
   "execution_count": 20,
   "id": "51c9712d-aba7-4917-b7a3-42fbc3bd9629",
   "metadata": {},
   "outputs": [
    {
     "name": "stdout",
     "output_type": "stream",
     "text": [
      "Even (2, 4, 6, 8, 0)\n",
      "Odd (1, 3, 5, 7, 9)\n"
     ]
    }
   ],
   "source": [
    "t = (1,2,3,4,5,6,7,8,9,0)\n",
    "even = tuple(i for i in t if i % 2 == 0)\n",
    "odd = tuple(i for i in t if i % 2 != 0)\n",
    "print(\"Even\",even)\n",
    "print(\"Odd\",odd)"
   ]
  },
  {
   "cell_type": "markdown",
   "id": "81407dfa-d2d0-4593-8ee8-66c1c081b714",
   "metadata": {},
   "source": [
    "## 16. Perform union, intersection, and difference of two sets without using built-in operators.\n"
   ]
  },
  {
   "cell_type": "code",
   "execution_count": 55,
   "id": "ecfc365e-bb5d-4b91-8172-4192dfd57cca",
   "metadata": {},
   "outputs": [
    {
     "name": "stdout",
     "output_type": "stream",
     "text": [
      "{1, 2, 3, 4, 5, 6}\n",
      "set()\n",
      "{1, 2, 3}\n"
     ]
    }
   ],
   "source": [
    "s1={1,2,3}\n",
    "s2={4,5,6}\n",
    "print(s1|s2)\n",
    "print(s1&s2)\n",
    "print(s1-s2)\n"
   ]
  },
  {
   "cell_type": "code",
   "execution_count": 56,
   "id": "315cd8fd-5076-4506-ad31-edf3d23a3351",
   "metadata": {},
   "outputs": [
    {
     "name": "stdout",
     "output_type": "stream",
     "text": [
      "Union: {1, 2, 3, 4, 5, 6}\n"
     ]
    }
   ],
   "source": [
    "# Union\n",
    "A = {1,2,3}\n",
    "B = {4,5,6}\n",
    "set = A|B\n",
    "print(\"Union:\", set)"
   ]
  },
  {
   "cell_type": "code",
   "execution_count": 57,
   "id": "5bdd604a-7b82-4cdb-aa2b-1d47dafa7548",
   "metadata": {},
   "outputs": [
    {
     "name": "stdout",
     "output_type": "stream",
     "text": [
      "Intersection: {3, 4}\n"
     ]
    }
   ],
   "source": [
    "# Intersection\n",
    "A = {1,2,3,4}\n",
    "B = {3,4,5,6}\n",
    "intersection_set = A & B\n",
    "print(\"Intersection:\",intersection_set)"
   ]
  },
  {
   "cell_type": "code",
   "execution_count": 58,
   "id": "c3b624ba-627c-4e47-a453-ce425ee64682",
   "metadata": {},
   "outputs": [
    {
     "name": "stdout",
     "output_type": "stream",
     "text": [
      "A - B: {1, 2}\n",
      "B - A: {5, 6}\n"
     ]
    }
   ],
   "source": [
    "# difference\n",
    "A = {1,2,3,4}\n",
    "B = {3,4,5,6}\n",
    "diff1 = A - B\n",
    "diff2 = B - A\n",
    "print(\"A - B:\",diff1)\n",
    "print(\"B - A:\",diff2)"
   ]
  },
  {
   "cell_type": "markdown",
   "id": "94c249e9-6134-4775-9256-b08c196d971d",
   "metadata": {},
   "source": [
    "## 17. Remove a random element from a set (without using pop())."
   ]
  },
  {
   "cell_type": "code",
   "execution_count": 7,
   "id": "b8be69dc-c949-4bdd-85bb-e2e4cf2fb73e",
   "metadata": {},
   "outputs": [
    {
     "name": "stdout",
     "output_type": "stream",
     "text": [
      "{2, 3, 4}\n"
     ]
    }
   ],
   "source": [
    "s={1,2,3,4}\n",
    "s.remove(1)\n",
    "print(s)"
   ]
  },
  {
   "cell_type": "markdown",
   "id": "dde2713e-a76b-4171-a523-54a8100a50c7",
   "metadata": {},
   "source": [
    "## 18. Convert a list into a set and check if duplicates are removed.\n"
   ]
  },
  {
   "cell_type": "code",
   "execution_count": 1,
   "id": "e3d57406-c379-4764-9e07-3cffbafa1cfb",
   "metadata": {},
   "outputs": [
    {
     "name": "stdout",
     "output_type": "stream",
     "text": [
      "{2, 4, 5, 6, 7}\n"
     ]
    }
   ],
   "source": [
    "l1 = [2,2,4,4,5,5,6,6,6,7,7,7,]\n",
    "s1 = set(l1)\n",
    "print(s1)"
   ]
  },
  {
   "cell_type": "markdown",
   "id": "2af29f3d-1d04-408b-87c6-696f3b0133ca",
   "metadata": {},
   "source": [
    "## 19. Check if two sets are disjoint."
   ]
  },
  {
   "cell_type": "code",
   "execution_count": 63,
   "id": "7b39d485-156c-4875-9624-6edc9fd9e905",
   "metadata": {},
   "outputs": [
    {
     "data": {
      "text/plain": [
       "True"
      ]
     },
     "execution_count": 63,
     "metadata": {},
     "output_type": "execute_result"
    }
   ],
   "source": [
    "s1={1,2,3}\n",
    "s2={4,5,6}\n",
    "s1.isdisjoint(s2)"
   ]
  },
  {
   "cell_type": "markdown",
   "id": "077c6f8c-668d-4a83-93d5-10d760529812",
   "metadata": {},
   "source": [
    "## 20. Find the sum of all elements in a set."
   ]
  },
  {
   "cell_type": "code",
   "execution_count": 8,
   "id": "0632c954-d004-4e98-a634-66aa886a4481",
   "metadata": {},
   "outputs": [
    {
     "name": "stdout",
     "output_type": "stream",
     "text": [
      "sum of the element: 10\n"
     ]
    }
   ],
   "source": [
    "s={1,2,3,4}\n",
    "total=sum(s)\n",
    "print(\"sum of the element:\",total)\n"
   ]
  },
  {
   "cell_type": "markdown",
   "id": "778fd565-9e22-4497-aa45-b76650f7ce5b",
   "metadata": {},
   "source": [
    "## 21. Create a dictionary and print keys in ascending order."
   ]
  },
  {
   "cell_type": "code",
   "execution_count": 64,
   "id": "e216539b-271b-457f-8069-9c499e4b3d66",
   "metadata": {},
   "outputs": [
    {
     "name": "stdout",
     "output_type": "stream",
     "text": [
      "Original Dictionary: {'c': 3, 'a': 1, 'b': 2}\n",
      "Keys in ascending order: ['a', 'b', 'c']\n"
     ]
    }
   ],
   "source": [
    "my_dict = {\"c\": 3, \"a\": 1, \"b\": 2}             # 1st way\n",
    "\n",
    "print(\"Original Dictionary:\", my_dict)\n",
    "print(\"Keys in ascending order:\", sorted(my_dict.keys()))"
   ]
  },
  {
   "cell_type": "code",
   "execution_count": 65,
   "id": "dc89148f-fc9c-4643-b7d0-a07553637884",
   "metadata": {},
   "outputs": [
    {
     "name": "stdout",
     "output_type": "stream",
     "text": [
      "['a', 'b', 'c']\n"
     ]
    }
   ],
   "source": [
    "dict = {\"c\": 3, \"a\": 1, \"b\": 2}      # 2nd way \n",
    "s=sorted(dict.keys())\n",
    "print(s)\n"
   ]
  },
  {
   "cell_type": "markdown",
   "id": "c1189082-7225-4a4f-8fca-37e8925db4b9",
   "metadata": {},
   "source": [
    "## 22. Add a new key to a dictionary with value equal to the sum of existing values."
   ]
  },
  {
   "cell_type": "code",
   "execution_count": 67,
   "id": "a88e2b5c-1900-4a14-b939-f23b8fa07c16",
   "metadata": {},
   "outputs": [
    {
     "name": "stdout",
     "output_type": "stream",
     "text": [
      "30\n"
     ]
    }
   ],
   "source": [
    "d={\"x\":10, \"y\":20}\n",
    "d_total=sum(d.values())\n",
    "print(d_total)"
   ]
  },
  {
   "cell_type": "markdown",
   "id": "203164e2-b048-4939-99f7-511a621b5a2a",
   "metadata": {},
   "source": [
    "## 23. Merge two dictionaries into one."
   ]
  },
  {
   "cell_type": "code",
   "execution_count": 69,
   "id": "48f7f172-c350-4053-8d0f-8d53bfc05c6b",
   "metadata": {},
   "outputs": [
    {
     "name": "stdout",
     "output_type": "stream",
     "text": [
      "{'a': 1, 'b': 2}\n"
     ]
    }
   ],
   "source": [
    "\n",
    "d1,d2 = {\"a\":1},{\"b\":2}\n",
    "merged = {**d1, **d2}\n",
    "print(merged)"
   ]
  },
  {
   "cell_type": "markdown",
   "id": "84585b2b-24ac-4b81-8632-995984f6aec0",
   "metadata": {},
   "source": [
    "## 24. Find the key with the largest value in a dictionary."
   ]
  },
  {
   "cell_type": "code",
   "execution_count": 70,
   "id": "18196a81-39cc-4ec4-83ef-3f60bd407074",
   "metadata": {},
   "outputs": [
    {
     "name": "stdout",
     "output_type": "stream",
     "text": [
      "b\n"
     ]
    }
   ],
   "source": [
    "d={\"a\":10, \"b\":25, \"c\":5}\n",
    "print(max(d, key=d.get))"
   ]
  },
  {
   "cell_type": "markdown",
   "id": "c6ea2c7a-806d-45fc-8232-be8f5cbafd37",
   "metadata": {},
   "source": [
    "## 25. Store the frequency of characters of a string in a dictionary."
   ]
  },
  {
   "cell_type": "code",
   "execution_count": 2,
   "id": "db0b5149-850a-4f4b-aa81-fd27a66458a5",
   "metadata": {},
   "outputs": [
    {
     "name": "stdout",
     "output_type": "stream",
     "text": [
      "{'h': 1, 'a': 1, 't': 1, 'e': 1, 'c': 2, 'l': 1, 'o': 2}\n"
     ]
    }
   ],
   "source": [
    "s = \"chocolate\"\n",
    "freq = {ch: s.count(ch) for ch in set(s)}\n",
    "print(freq)\n"
   ]
  },
  {
   "cell_type": "markdown",
   "id": "72a8960e-ca4e-45f4-80b6-1903c5ddcc89",
   "metadata": {},
   "source": [
    "## 26. Take age as input and check if the person is eligible to vote or not."
   ]
  },
  {
   "cell_type": "code",
   "execution_count": 14,
   "id": "6845882b-1e6b-484c-9384-693ab2f6362f",
   "metadata": {},
   "outputs": [
    {
     "name": "stdin",
     "output_type": "stream",
     "text": [
      "enter your age:  20\n"
     ]
    },
    {
     "name": "stdout",
     "output_type": "stream",
     "text": [
      "eligible to vote\n"
     ]
    }
   ],
   "source": [
    "age = int(input(\"enter your age: \"))\n",
    "\n",
    "if age>=18:\n",
    "  print(\"eligible to vote\")\n",
    "else:\n",
    "  print(\"not eligible to vote\")"
   ]
  },
  {
   "cell_type": "markdown",
   "id": "ccc781d5-5d68-46ad-b6e7-4e32ccbdbbef",
   "metadata": {},
   "source": [
    "## 27. Find the largest among three numbers (using nested if)."
   ]
  },
  {
   "cell_type": "code",
   "execution_count": 81,
   "id": "a4873a3c-d1d9-4eea-aa98-d878feb1119f",
   "metadata": {},
   "outputs": [
    {
     "name": "stdin",
     "output_type": "stream",
     "text": [
      "enter a 1 number: 45\n",
      "enter a 2 number: 55\n",
      "enter a 3 number: 65\n"
     ]
    },
    {
     "name": "stdout",
     "output_type": "stream",
     "text": [
      "n3 is largest\n"
     ]
    }
   ],
   "source": [
    "n1=int(input(\"enter a 1 number:\"))\n",
    "n2=int(input(\"enter a 2 number:\"))\n",
    "n3=int(input(\"enter a 3 number:\"))\n",
    "\n",
    "if n1>n2:\n",
    "    if n1>n3:\n",
    "        print(\"n1 is largest\")\n",
    "elif n2>n3:\n",
    "    print(\"n2 is largest\")\n",
    "else:\n",
    "    print(\"n3 is largest\")"
   ]
  },
  {
   "cell_type": "code",
   "execution_count": 76,
   "id": "a453a9ca-76b2-4c39-b4bb-1657c696d401",
   "metadata": {},
   "outputs": [
    {
     "name": "stdin",
     "output_type": "stream",
     "text": [
      "Enter first number:  55\n",
      "Enter second number:  85\n",
      "Enter third number:  45\n"
     ]
    },
    {
     "name": "stdout",
     "output_type": "stream",
     "text": [
      "Largest number is: 85\n"
     ]
    }
   ],
   "source": [
    "a = int(input(\"Enter first number: \"))\n",
    "b = int(input(\"Enter second number: \"))\n",
    "c = int(input(\"Enter third number: \"))\n",
    "\n",
    "if a >= b:\n",
    "    if a >= c:\n",
    "        print(\"Largest number is:\", a)\n",
    "    else:\n",
    "        print(\"Largest number is:\", c)\n",
    "else:\n",
    "    if b >= c:\n",
    "        print(\"Largest number is:\", b)\n",
    "    else:\n",
    "        print(\"Largest number is:\", c)"
   ]
  },
  {
   "cell_type": "markdown",
   "id": "9320742c-34b7-4829-84b6-8de7f065bfcc",
   "metadata": {},
   "source": [
    "## 28. Check if a given number is prime or not."
   ]
  },
  {
   "cell_type": "code",
   "execution_count": 77,
   "id": "95d22548-4db5-494b-8744-40175a2470e3",
   "metadata": {},
   "outputs": [
    {
     "name": "stdin",
     "output_type": "stream",
     "text": [
      "enter a number  37\n"
     ]
    },
    {
     "name": "stdout",
     "output_type": "stream",
     "text": [
      "It is a prime number\n"
     ]
    }
   ],
   "source": [
    "n = int(input(\"enter a number \"))\n",
    "if n <= 1:\n",
    "    print(\"Not a prime number\")\n",
    "elif n==2  or n==3:\n",
    "    print(\"It is a prime number\")\n",
    "else:\n",
    "    for i in range(2,n):  # its check that if n is divisible by any number between 2 and n-1 if yes then its not a prime number,\n",
    "        if n % i == 0 :\n",
    "            print(\"Not a prime number\")\n",
    "            break\n",
    "    else:\n",
    "        print(\"It is a prime number\")"
   ]
  },
  {
   "cell_type": "markdown",
   "id": "e66063cc-d284-4637-81e2-0610439b14de",
   "metadata": {},
   "source": [
    "## 29. Assign grade (A, B, C, Fail) based on marks input.\n"
   ]
  },
  {
   "cell_type": "code",
   "execution_count": 79,
   "id": "30b9e7ec-4ada-48c7-bcf6-af07eba6db92",
   "metadata": {},
   "outputs": [],
   "source": [
    "def assign_grade():\n",
    "    marks = int(input(\"Enter your marks: \"))\n",
    "    if marks >= 90:\n",
    "        print(\"Grade: A\")\n",
    "    elif marks >= 75:\n",
    "        print(\"Grade: B\")\n",
    "    elif marks >= 50:\n",
    "        print(\"Grade: C\")\n",
    "    else:\n",
    "        print(\"Grade: Fail\")"
   ]
  },
  {
   "cell_type": "code",
   "execution_count": 80,
   "id": "4120d2a8-2058-4f82-a19f-e4f7915892ec",
   "metadata": {},
   "outputs": [
    {
     "name": "stdin",
     "output_type": "stream",
     "text": [
      "Enter your marks:  75\n"
     ]
    },
    {
     "name": "stdout",
     "output_type": "stream",
     "text": [
      "Grade: B\n"
     ]
    }
   ],
   "source": [
    "assign_grade()"
   ]
  },
  {
   "cell_type": "markdown",
   "id": "90b344cd-76bf-4408-b1e6-1088202c5f21",
   "metadata": {},
   "source": [
    "## 30. Check if a number is positive, negative, or zero."
   ]
  },
  {
   "cell_type": "code",
   "execution_count": 15,
   "id": "89701f32-8b60-4777-9904-80658de8bb11",
   "metadata": {},
   "outputs": [
    {
     "name": "stdin",
     "output_type": "stream",
     "text": [
      "enter number: 77\n"
     ]
    },
    {
     "name": "stdout",
     "output_type": "stream",
     "text": [
      "it is positive\n"
     ]
    }
   ],
   "source": [
    "num=int(input(\"enter number:\"))\n",
    "if num>0:\n",
    "   print(\"it is positive\")\n",
    "elif num<0:\n",
    "    print(\"it is negative\")\n",
    "\n",
    "else:\n",
    "    print(\"it is zero\")"
   ]
  },
  {
   "cell_type": "markdown",
   "id": "a18c753f-241a-4563-a5a6-f7bcd93142a2",
   "metadata": {},
   "source": [
    "# 31. Print the first 10 numbers of the Fibonacci series using for loop."
   ]
  },
  {
   "cell_type": "code",
   "execution_count": 82,
   "id": "383d1a9b-5939-4249-8123-79fc4fcfa687",
   "metadata": {},
   "outputs": [
    {
     "name": "stdout",
     "output_type": "stream",
     "text": [
      "0 1 1 2 3 5 8 13 21 34 "
     ]
    }
   ],
   "source": [
    "a,b = 0,1\n",
    "for _ in range(10):\n",
    "    print(a,end= \" \")\n",
    "    a, b = b, a+b"
   ]
  },
  {
   "cell_type": "markdown",
   "id": "1f6c3561-3bbd-412d-8938-491f261db075",
   "metadata": {},
   "source": [
    "## 32. Find the factorial of a number using while loop."
   ]
  },
  {
   "cell_type": "code",
   "execution_count": 83,
   "id": "7083bee2-755e-48c2-9eb8-7d1fee053441",
   "metadata": {},
   "outputs": [
    {
     "name": "stdout",
     "output_type": "stream",
     "text": [
      "\n",
      "Factorial: 120\n"
     ]
    }
   ],
   "source": [
    "n= 5\n",
    "fact = 1\n",
    "while n > 0:\n",
    "    fact *= n\n",
    "    n -= 1\n",
    "print(\"\\nFactorial:\",fact)"
   ]
  },
  {
   "cell_type": "markdown",
   "id": "aa57ca2e-8148-44cb-9e89-9b09761b98c3",
   "metadata": {},
   "source": [
    "## 33. Input a number and find the sum of its digits using while loop."
   ]
  },
  {
   "cell_type": "code",
   "execution_count": 84,
   "id": "106f7abf-f87b-43f0-9092-7cffd37d0945",
   "metadata": {},
   "outputs": [
    {
     "name": "stdout",
     "output_type": "stream",
     "text": [
      "sum of didgit: 10\n"
     ]
    }
   ],
   "source": [
    "n = 1234\n",
    "s = 0\n",
    "while n > 0:\n",
    "    s += n % 10\n",
    "    n //= 10\n",
    "print(\"sum of didgit:\",s)"
   ]
  },
  {
   "cell_type": "markdown",
   "id": "0a496a8f-8d7d-4f4f-acc3-ffa4f11290a6",
   "metadata": {},
   "source": [
    "## 34. Print all elements of a list in reverse order without using reverse().\n"
   ]
  },
  {
   "cell_type": "code",
   "execution_count": 85,
   "id": "1cee602c-b191-4de4-8c0d-7d9c360e955d",
   "metadata": {},
   "outputs": [
    {
     "name": "stdout",
     "output_type": "stream",
     "text": [
      "[50, 45, 40, 35, 30, 25, 20, 15, 10, 5]\n"
     ]
    }
   ],
   "source": [
    "z1 = [5,10,15,20,25,30,35,40,45,50]\n",
    "my_list = z1[::-1]\n",
    "print(my_list)\n"
   ]
  },
  {
   "cell_type": "markdown",
   "id": "6b57aa4a-81b6-4ebe-9450-78e43065da79",
   "metadata": {},
   "source": [
    "## 35. Print a star pattern (triangle) using nested loops"
   ]
  },
  {
   "cell_type": "code",
   "execution_count": 86,
   "id": "c7c8fff2-98a7-43f4-8ed0-a439699018fd",
   "metadata": {},
   "outputs": [
    {
     "name": "stdin",
     "output_type": "stream",
     "text": [
      "Enter the num: 5\n"
     ]
    },
    {
     "name": "stdout",
     "output_type": "stream",
     "text": [
      "* \n",
      "* * \n",
      "* * * \n",
      "* * * * \n",
      "* * * * * \n"
     ]
    }
   ],
   "source": [
    "num = int(input(\"Enter the num:\"))\n",
    "for i in range(num):\n",
    "    for j in range(i + 1):\n",
    "        print(\"*\",end = \" \")\n",
    "    print()"
   ]
  },
  {
   "cell_type": "markdown",
   "id": "0130b2cc-32bc-47ef-ad88-aea3cfdd3bd1",
   "metadata": {},
   "source": [
    "## 36. Write some text into a file and then read and print it."
   ]
  },
  {
   "cell_type": "code",
   "execution_count": 24,
   "id": "52565c3a-e421-4aea-9b0b-003ae7e8847f",
   "metadata": {},
   "outputs": [
    {
     "name": "stdout",
     "output_type": "stream",
     "text": [
      "hello python\n"
     ]
    }
   ],
   "source": [
    "with open(\"test.txt\",\"w\") as f:\n",
    "    f.write(\"hello python\")\n",
    "with open(\"test.txt\",\"r\") as f:\n",
    "    print(f.read())\n",
    "\n"
   ]
  },
  {
   "cell_type": "markdown",
   "id": "2140e7bb-2d86-4392-8940-4f6d37fa9901",
   "metadata": {},
   "source": [
    "## 37. Count the total number of lines in a file."
   ]
  },
  {
   "cell_type": "code",
   "execution_count": 25,
   "id": "be7aa6f6-1af6-49d6-9f6d-9eb214a8ed1b",
   "metadata": {},
   "outputs": [
    {
     "name": "stdout",
     "output_type": "stream",
     "text": [
      "lines: 1\n"
     ]
    }
   ],
   "source": [
    "\n",
    "with open(\"test.txt\", \"r\") as f:\n",
    "    print(\"lines:\",len(f.readlines()))"
   ]
  },
  {
   "cell_type": "markdown",
   "id": "0186c3af-ff2c-468a-adf4-05e793bb5dee",
   "metadata": {},
   "source": [
    "## 38. Count vowels and consonants in a file."
   ]
  },
  {
   "cell_type": "code",
   "execution_count": 4,
   "id": "05fb905c-c114-4c48-b6cd-33df4df00cda",
   "metadata": {},
   "outputs": [
    {
     "name": "stdout",
     "output_type": "stream",
     "text": [
      "Vowels: 3\n",
      "Consonants: 8\n"
     ]
    }
   ],
   "source": [
    "f = open(\"test.txt\", \"r\")\n",
    "text = f.read().lower()\n",
    "f.close()\n",
    "\n",
    "vowels = 0\n",
    "consonants = 0\n",
    "\n",
    "for ch in text:\n",
    "    if ch.isalpha():\n",
    "        if ch in \"aeiou\":\n",
    "            vowels += 1\n",
    "        else:\n",
    "            consonants += 1\n",
    "\n",
    "print(\"Vowels:\", vowels)\n",
    "print(\"Consonants:\", consonants)"
   ]
  },
  {
   "cell_type": "markdown",
   "id": "b253b1df-0c1d-4217-8cdf-b0027ddaa9b1",
   "metadata": {},
   "source": [
    "## 39. Convert the content of a file into uppercase and store it in another file.\n"
   ]
  },
  {
   "cell_type": "code",
   "execution_count": 8,
   "id": "a0ccfa57-7584-4c4f-87a2-e1db9d41d21b",
   "metadata": {},
   "outputs": [],
   "source": [
    "with open(\"test.txt\") as f:\n",
    "    data = f.read().upper()\n",
    "with open(\"upper.txt\", \"w\") as f:\n",
    "    f.write(data)\n",
    "    f.close()"
   ]
  },
  {
   "cell_type": "code",
   "execution_count": 9,
   "id": "5bfc1af8-c216-4e32-b79b-d9364055196e",
   "metadata": {},
   "outputs": [
    {
     "data": {
      "text/plain": [
       "'HELLO PYTHON'"
      ]
     },
     "execution_count": 9,
     "metadata": {},
     "output_type": "execute_result"
    }
   ],
   "source": [
    "f = open(\"upper.txt\", \"r\") \n",
    "f.read()\n"
   ]
  },
  {
   "cell_type": "markdown",
   "id": "7d19b92c-755a-4e49-a524-1434133e5d84",
   "metadata": {},
   "source": [
    "## 40. Read a CSV file and print its rows.\n"
   ]
  },
  {
   "cell_type": "code",
   "execution_count": 10,
   "id": "4d148f08-8080-4203-838a-0789b67af5ea",
   "metadata": {},
   "outputs": [
    {
     "name": "stdout",
     "output_type": "stream",
     "text": [
      "['hello python']\n"
     ]
    }
   ],
   "source": [
    "import csv\n",
    "with open(\"test.txt\", newline=\"\") as f:\n",
    "    reader = csv.reader(f)\n",
    "    for row in reader:\n",
    "        print(row)"
   ]
  },
  {
   "cell_type": "code",
   "execution_count": 15,
   "id": "194b1406-29c4-4e5d-9417-0089aec6f1ca",
   "metadata": {},
   "outputs": [],
   "source": [
    "import os"
   ]
  },
  {
   "cell_type": "markdown",
   "id": "6d331260-be6e-4a40-a516-e77a44036e7c",
   "metadata": {},
   "source": [
    "## 41. Print the current working directory using os module.\n"
   ]
  },
  {
   "cell_type": "code",
   "execution_count": 16,
   "id": "8bc3a83c-4e5e-420e-a2e8-366dc900b666",
   "metadata": {},
   "outputs": [
    {
     "name": "stdout",
     "output_type": "stream",
     "text": [
      "C:\\Users\\Pragati Khode\n"
     ]
    }
   ],
   "source": [
    "print(os.getcwd())"
   ]
  },
  {
   "cell_type": "markdown",
   "id": "404776fb-beed-4fa3-9b11-a58fa99ae708",
   "metadata": {},
   "source": [
    "## 42. Create a new folder using os module and create a file inside it.\n"
   ]
  },
  {
   "cell_type": "code",
   "execution_count": 98,
   "id": "e20192b7-4325-4aff-882c-c4fdb22e986e",
   "metadata": {},
   "outputs": [
    {
     "name": "stdout",
     "output_type": "stream",
     "text": [
      "Succesfully create the folder and file\n"
     ]
    }
   ],
   "source": [
    "os.mkdir(\"ABCD\")\n",
    "f = open(\"ABCD/newfile.txt\",\"w\")\n",
    "f.write(\"my file is inside ABCD\")\n",
    "f.close()\n",
    "print(\"Succesfully create the folder and file\")"
   ]
  },
  {
   "cell_type": "markdown",
   "id": "89ac3caf-206c-4027-a66f-2130b13016ab",
   "metadata": {},
   "source": [
    "## 43. List all files and folders inside a directory."
   ]
  },
  {
   "cell_type": "code",
   "execution_count": 17,
   "id": "447022bf-f713-49c3-97bb-a759d309045a",
   "metadata": {},
   "outputs": [
    {
     "data": {
      "text/plain": [
       "['.anaconda',\n",
       " '.cache',\n",
       " '.conda',\n",
       " '.condarc',\n",
       " '.continuum',\n",
       " '.idlerc',\n",
       " '.ipynb_checkpoints',\n",
       " '.ipython',\n",
       " '.jupyter',\n",
       " '.vscode',\n",
       " 'ABCD',\n",
       " 'anaconda3',\n",
       " 'AppData',\n",
       " 'Application Data',\n",
       " 'assignment practice question.ipynb',\n",
       " 'assignment.ipynb',\n",
       " 'Contacts',\n",
       " 'Cookies',\n",
       " 'Desktop',\n",
       " 'Documents',\n",
       " 'Downloads',\n",
       " 'example.txt',\n",
       " 'Favorites',\n",
       " 'Links',\n",
       " 'Local Settings',\n",
       " 'Music',\n",
       " 'My Documents',\n",
       " 'NetHood',\n",
       " 'New folder',\n",
       " 'NTUSER.DAT',\n",
       " 'ntuser.dat.LOG1',\n",
       " 'ntuser.dat.LOG2',\n",
       " 'NTUSER.DAT{a4b1c95e-867a-11f0-84d8-e50353329c4f}.TM.blf',\n",
       " 'NTUSER.DAT{a4b1c95e-867a-11f0-84d8-e50353329c4f}.TMContainer00000000000000000001.regtrans-ms',\n",
       " 'NTUSER.DAT{a4b1c95e-867a-11f0-84d8-e50353329c4f}.TMContainer00000000000000000002.regtrans-ms',\n",
       " 'ntuser.ini',\n",
       " 'OneDrive',\n",
       " 'Pictures',\n",
       " 'PrintHood',\n",
       " 'python dsaa',\n",
       " 'Recent',\n",
       " 'Saved Games',\n",
       " 'Searches',\n",
       " 'SendTo',\n",
       " 'Start Menu',\n",
       " 'Templates',\n",
       " 'test.txt',\n",
       " 'Untitled.ipynb',\n",
       " 'Untitled1.ipynb',\n",
       " 'Untitled2.ipynb',\n",
       " 'upper.txt',\n",
       " 'Videos']"
      ]
     },
     "execution_count": 17,
     "metadata": {},
     "output_type": "execute_result"
    }
   ],
   "source": [
    "os.listdir()"
   ]
  },
  {
   "cell_type": "markdown",
   "id": "31380dda-67fb-4bc9-9ca2-8d10a5861649",
   "metadata": {},
   "source": [
    "## 44. Check the size of a file using os module."
   ]
  },
  {
   "cell_type": "code",
   "execution_count": 18,
   "id": "81eb1da6-acde-407a-80a0-7eada95e52e2",
   "metadata": {},
   "outputs": [
    {
     "name": "stdout",
     "output_type": "stream",
     "text": [
      "File size of test.txt is: 12 bytes\n"
     ]
    }
   ],
   "source": [
    "filename = \"test.txt\"\n",
    "size = os.path.getsize(filename)\n",
    "print(f\"File size of {filename} is: {size} bytes\")"
   ]
  },
  {
   "cell_type": "markdown",
   "id": "490f96aa-15d7-4664-ac37-0112b16995c8",
   "metadata": {},
   "source": [
    "## 45. Count all .txt files in a directory."
   ]
  },
  {
   "cell_type": "code",
   "execution_count": 102,
   "id": "56b0d502-a2cc-4378-8159-3224289ba4d3",
   "metadata": {},
   "outputs": [
    {
     "name": "stdout",
     "output_type": "stream",
     "text": [
      "{1, '.txt files:'}\n"
     ]
    }
   ],
   "source": [
    "files = os.listdir()\n",
    "count = 0\n",
    "\n",
    "for f in files:\n",
    "    if f.endswith(\".txt\"):\n",
    "        count += 1\n",
    "result = {\".txt files:\", count}\n",
    "\n",
    "print(result)"
   ]
  },
  {
   "cell_type": "markdown",
   "id": "39c48c75-0cb8-43e1-82b6-3cbe94cd5676",
   "metadata": {},
   "source": [
    "## 46. Write a program that takes user input and prints its square. Handle errors if input is invalid.\n"
   ]
  },
  {
   "cell_type": "code",
   "execution_count": 1,
   "id": "c7b20fe4-c2b2-4022-9185-257db8a662b1",
   "metadata": {},
   "outputs": [
    {
     "name": "stdin",
     "output_type": "stream",
     "text": [
      "Enter a number:  4\n"
     ]
    },
    {
     "name": "stdout",
     "output_type": "stream",
     "text": [
      "Square is: 16\n"
     ]
    }
   ],
   "source": [
    "try:\n",
    "    num = int(input(\"Enter a number: \"))\n",
    "    print(\"Square is:\", num**2)\n",
    "except ValueError: \n",
    "    print(\"Invalid input! Please enter a number.\")"
   ]
  },
  {
   "cell_type": "markdown",
   "id": "a7568e57-b1fb-4b7e-9a9c-3749e8012e80",
   "metadata": {},
   "source": [
    "## 47. Handle ZeroDivisionError with an example program."
   ]
  },
  {
   "cell_type": "code",
   "execution_count": 2,
   "id": "d46b2dc9-35ef-4498-aa7c-a7f840539987",
   "metadata": {},
   "outputs": [
    {
     "name": "stdin",
     "output_type": "stream",
     "text": [
      "Enter numerator:  9\n",
      "Enter denominator:  5\n"
     ]
    },
    {
     "name": "stdout",
     "output_type": "stream",
     "text": [
      "Result: 1.8\n"
     ]
    }
   ],
   "source": [
    "try:\n",
    "    a = int(input(\"Enter numerator: \"))\n",
    "    b = int(input(\"Enter denominator: \"))\n",
    "    result = a / b\n",
    "    print(\"Result:\", result)\n",
    "except ZeroDivisionError:\n",
    "    print(\"Error! Cannot divide by zero.\")"
   ]
  },
  {
   "cell_type": "markdown",
   "id": "86bab772-ead5-4170-a5fd-a314814dd028",
   "metadata": {},
   "source": [
    "## 48. Handle FileNotFoundError with an example program.\n"
   ]
  },
  {
   "cell_type": "code",
   "execution_count": 3,
   "id": "d17b65c8-d78b-4fa8-9f4a-7705591b558e",
   "metadata": {},
   "outputs": [
    {
     "name": "stdout",
     "output_type": "stream",
     "text": [
      "File not found!\n"
     ]
    }
   ],
   "source": [
    "try:\n",
    "    f = open(\"sample.txt\", \"r\")   \n",
    "    print(f.read())\n",
    "    f.close()\n",
    "except FileNotFoundError:\n",
    "    print(\"File not found!\")\n"
   ]
  },
  {
   "cell_type": "markdown",
   "id": "3eeb10ff-31ed-401b-873b-1ea07aa800c6",
   "metadata": {},
   "source": [
    "## 49. Handle both ValueError and TypeError with an example."
   ]
  },
  {
   "cell_type": "code",
   "execution_count": 6,
   "id": "8ba12573-5c4c-467d-bb4c-9d22c1abf215",
   "metadata": {},
   "outputs": [
    {
     "name": "stdin",
     "output_type": "stream",
     "text": [
      "Enter a number:  77\n"
     ]
    },
    {
     "name": "stdout",
     "output_type": "stream",
     "text": [
      "TypeError: Cannot add number and string together!\n"
     ]
    }
   ],
   "source": [
    "try:\n",
    "    num = int(input(\"Enter a number: \"))   \n",
    "    result = num + \"5\"                      \n",
    "    print(result)\n",
    "    \n",
    "except ValueError:\n",
    "    print(\"ValueError: Please enter numbers only!\")\n",
    "except TypeError:\n",
    "    print(\"TypeError: Cannot add number and string together!\")\n"
   ]
  },
  {
   "cell_type": "markdown",
   "id": "addd7acf-00ba-4b02-b89c-a433f43f115f",
   "metadata": {},
   "source": [
    "## 50. Write a program with finally block that opens and closes a file"
   ]
  },
  {
   "cell_type": "code",
   "execution_count": 7,
   "id": "ea5688e5-17ff-4fb9-898f-e0f510238dbf",
   "metadata": {},
   "outputs": [
    {
     "name": "stdout",
     "output_type": "stream",
     "text": [
      "File written successfully.\n",
      "File closed successfully.\n"
     ]
    }
   ],
   "source": [
    "try:\n",
    "    file = open(\"example.txt\", \"w\")\n",
    "    file.write(\"Hello, Python!\")\n",
    "    print(\"File written successfully.\")\n",
    "\n",
    "except Exception as e:\n",
    "    print(\"An error occurred:\", e)\n",
    "\n",
    "finally:\n",
    "    file.close()\n",
    "    print(\"File closed successfully.\")"
   ]
  },
  {
   "cell_type": "code",
   "execution_count": null,
   "id": "f76bcf5d-5815-422d-bc91-0e9059be9c5f",
   "metadata": {},
   "outputs": [],
   "source": []
  }
 ],
 "metadata": {
  "kernelspec": {
   "display_name": "Python 3 (ipykernel)",
   "language": "python",
   "name": "python3"
  },
  "language_info": {
   "codemirror_mode": {
    "name": "ipython",
    "version": 3
   },
   "file_extension": ".py",
   "mimetype": "text/x-python",
   "name": "python",
   "nbconvert_exporter": "python",
   "pygments_lexer": "ipython3",
   "version": "3.13.5"
  }
 },
 "nbformat": 4,
 "nbformat_minor": 5
}
