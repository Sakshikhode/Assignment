{
 "cells": [
  {
   "cell_type": "markdown",
   "id": "b1a17349-5868-4082-a8d3-3e68aaca442b",
   "metadata": {},
   "source": [
    "# 1. Find the 2nd largest and 2nd smallest element in a list."
   ]
  },
  {
   "cell_type": "code",
   "execution_count": 12,
   "id": "c32b4c84-3746-496f-ac62-1844ef113702",
   "metadata": {},
   "outputs": [
    {
     "name": "stdout",
     "output_type": "stream",
     "text": [
      "second largest: 4\n",
      "second smallest: 2\n"
     ]
    }
   ],
   "source": [
    "list=[1,2,3,4,5]\n",
    "largest=list[-2]\n",
    "smallest=list[1]\n",
    "print(\"second largest:\",largest)\n",
    "print(\"second smallest:\",smallest)"
   ]
  },
  {
   "cell_type": "markdown",
   "id": "e182c2fb-524f-46f7-8fc2-e6c93c0b60fb",
   "metadata": {},
   "source": [
    "# 2. Find the key with the largest value in a dictionary"
   ]
  },
  {
   "cell_type": "code",
   "execution_count": 47,
   "id": "0bb2bd19-b881-41e9-83b4-4b5822afd974",
   "metadata": {},
   "outputs": [
    {
     "name": "stdout",
     "output_type": "stream",
     "text": [
      "Key with the largest value: <built-in function max>\n"
     ]
    }
   ],
   "source": [
    "mydict = {'a': 10, 'b': 30, 'c': 20}\n",
    "value = max(mydict, key=mydict)\n",
    "print(\"Key with the largest value:\", max)\n",
    "\n"
   ]
  },
  {
   "cell_type": "markdown",
   "id": "d90b8d3a-9cc8-4d22-8e3a-f17ba1421997",
   "metadata": {},
   "source": [
    "# 3. Create a new folder using os module and create a file inside it.f"
   ]
  },
  {
   "cell_type": "code",
   "execution_count": null,
   "id": "34cb9a5c-c958-402d-91f7-493da57f52c7",
   "metadata": {},
   "outputs": [],
   "source": []
  },
  {
   "cell_type": "markdown",
   "id": "49932bb9-e211-4356-ac85-aaae3745587c",
   "metadata": {},
   "source": [
    "# 4. Write a recursive function to calculate Fibonacci series up to n terms."
   ]
  },
  {
   "cell_type": "code",
   "execution_count": null,
   "id": "1587d593-fe8c-48e4-8419-86f398f2a9bf",
   "metadata": {},
   "outputs": [],
   "source": []
  },
  {
   "cell_type": "markdown",
   "id": "27b8d676-4317-4ad4-9a90-41252cb7d129",
   "metadata": {},
   "source": [
    "# 5. Use a lambda with map() to convert a list of integers into their cubes. "
   ]
  },
  {
   "cell_type": "code",
   "execution_count": null,
   "id": "b58f4c37-db9c-494a-afc8-92954149879e",
   "metadata": {},
   "outputs": [],
   "source": []
  },
  {
   "cell_type": "markdown",
   "id": "e183eb47-a49f-4c1c-a375-d914b4a62468",
   "metadata": {},
   "source": [
    "# 6. Create a class Employee that increases salary by 10%."
   ]
  },
  {
   "cell_type": "code",
   "execution_count": null,
   "id": "40c81b75-5700-4fd6-8128-1cfcd181978a",
   "metadata": {},
   "outputs": [],
   "source": []
  },
  {
   "cell_type": "markdown",
   "id": "a7c198a2-232a-4f2d-bb97-a44d8cc9c246",
   "metadata": {},
   "source": [
    "# 7. Write a program to print the date 30 days from today. "
   ]
  },
  {
   "cell_type": "code",
   "execution_count": 20,
   "id": "7548fa1a-164e-4668-b315-e8720bb3570f",
   "metadata": {},
   "outputs": [
    {
     "name": "stdout",
     "output_type": "stream",
     "text": [
      "Today's Date: 2025-09-16\n",
      "Date after 30 days: 2025-10-16\n"
     ]
    }
   ],
   "source": [
    "import datetime\n",
    "today=datetime.date.today()\n",
    "print(\"Today's Date:\",today)\n",
    "onemonth=today+datetime.timedelta(days=30)\n",
    "print(\"Date after 30 days:\",onemonth)"
   ]
  },
  {
   "cell_type": "markdown",
   "id": "12aa277f-5702-41de-b738-46881f7391eb",
   "metadata": {},
   "source": [
    "# 8. Write a program to convert radians to degrees and vice versa."
   ]
  },
  {
   "cell_type": "code",
   "execution_count": null,
   "id": "4ba6102f-7fce-4679-a3b1-10f990c8b598",
   "metadata": {},
   "outputs": [],
   "source": [
    "import math\n",
    "r=math"
   ]
  },
  {
   "cell_type": "markdown",
   "id": "c52e944e-6046-420e-b0c7-4e1acc6263f1",
   "metadata": {},
   "source": [
    "# 9.  Write a regex to validate if a string is a valid Indian mobile number (10 digits)."
   ]
  },
  {
   "cell_type": "code",
   "execution_count": null,
   "id": "f43c1e38-6813-4101-a27a-298059340bab",
   "metadata": {},
   "outputs": [],
   "source": []
  },
  {
   "cell_type": "markdown",
   "id": "3726ca3d-5dcd-4324-9c10-70d929c17394",
   "metadata": {},
   "source": [
    "# 10. Create a class Bank with encapsulated methods to show account details securely. "
   ]
  },
  {
   "cell_type": "code",
   "execution_count": null,
   "id": "fd60ba34-bdd4-4203-963f-7f3cf5e2e13e",
   "metadata": {},
   "outputs": [],
   "source": []
  }
 ],
 "metadata": {
  "kernelspec": {
   "display_name": "Python 3 (ipykernel)",
   "language": "python",
   "name": "python3"
  },
  "language_info": {
   "codemirror_mode": {
    "name": "ipython",
    "version": 3
   },
   "file_extension": ".py",
   "mimetype": "text/x-python",
   "name": "python",
   "nbconvert_exporter": "python",
   "pygments_lexer": "ipython3",
   "version": "3.13.5"
  }
 },
 "nbformat": 4,
 "nbformat_minor": 5
}
