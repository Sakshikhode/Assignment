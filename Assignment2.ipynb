{
 "cells": [
  {
   "cell_type": "markdown",
   "id": "8d5db950-e675-4dd7-a0f3-583bbaaf224e",
   "metadata": {},
   "source": [
    "# 1.\tUser-Defined Function (5 Questions) "
   ]
  },
  {
   "cell_type": "markdown",
   "id": "ec613718-c675-4789-a67d-f6ee010f87c7",
   "metadata": {},
   "source": [
    "## 1.\tWrite a function to calculate the factorial of a number (without recursion). "
   ]
  },
  {
   "cell_type": "code",
   "execution_count": 1,
   "id": "03d2c417-7ff6-41df-b58e-314f1e7e765d",
   "metadata": {},
   "outputs": [],
   "source": [
    "def factorial(n):\n",
    "    fact =1\n",
    "    for i in range(1,n+1):\n",
    "        fact*=i\n",
    "    print(fact)"
   ]
  },
  {
   "cell_type": "code",
   "execution_count": 2,
   "id": "b362f398-5886-40c2-b074-5218c3a5e733",
   "metadata": {},
   "outputs": [
    {
     "name": "stdout",
     "output_type": "stream",
     "text": [
      "120\n"
     ]
    }
   ],
   "source": [
    "factorial(5)"
   ]
  },
  {
   "cell_type": "markdown",
   "id": "38a18864-e1bd-4d17-b0fc-dd677a15f5e2",
   "metadata": {},
   "source": [
    "## 2.\tWrite a function to check if a number is Armstrong or not. "
   ]
  },
  {
   "cell_type": "code",
   "execution_count": 7,
   "id": "7dfdfe0c-5cf0-4371-a995-fdfdd845d02c",
   "metadata": {},
   "outputs": [
    {
     "name": "stdin",
     "output_type": "stream",
     "text": [
      "Enter a number 153\n"
     ]
    },
    {
     "name": "stdout",
     "output_type": "stream",
     "text": [
      "153 is an Armstrong number.\n"
     ]
    }
   ],
   "source": [
    "def armstrong(num):\n",
    "    digit = str(num)\n",
    "    power = len(digit)\n",
    "    total = sum(int(i)**power for i in digit)\n",
    "    return num==total\n",
    "\n",
    "\n",
    "n=int(input(\"Enter a number\"))\n",
    "if armstrong(n):\n",
    "    print(f\"{n} is an Armstrong number.\")\n",
    "else:\n",
    "    print(f\"{n} is NOT an Armstrong number.\")"
   ]
  },
  {
   "cell_type": "markdown",
   "id": "eee34391-5d8f-444c-8c2a-53431a8b0d1c",
   "metadata": {},
   "source": [
    "## 3.\tWrite a function that takes a list of numbers and returns only even numbers. "
   ]
  },
  {
   "cell_type": "code",
   "execution_count": 10,
   "id": "b5f68c49-89ff-490b-9346-b37f35fe4b24",
   "metadata": {},
   "outputs": [],
   "source": [
    "def even_list():\n",
    "    even = list(map(int,input(\"Enter a number with having space after each number :\").split()))\n",
    "    for i in even:\n",
    "        if i%2==0:\n",
    "            print(i)\n",
    "\n",
    "            "
   ]
  },
  {
   "cell_type": "code",
   "execution_count": 12,
   "id": "3eacb3de-3201-4f5e-b56c-1843f375b1f6",
   "metadata": {},
   "outputs": [
    {
     "name": "stdin",
     "output_type": "stream",
     "text": [
      "Enter a number with having space after each number : 5 2 1 2 2 1 2 3\n"
     ]
    },
    {
     "name": "stdout",
     "output_type": "stream",
     "text": [
      "2\n",
      "2\n",
      "2\n",
      "2\n"
     ]
    }
   ],
   "source": [
    " even_list()"
   ]
  },
  {
   "cell_type": "markdown",
   "id": "f67ba334-5a49-4301-b79a-942aa03cea4e",
   "metadata": {},
   "source": [
    "## 4.\tWrite a function that takes a string and returns the reverse of the string"
   ]
  },
  {
   "cell_type": "code",
   "execution_count": 16,
   "id": "1ac867b1-600f-48f5-b51c-a2629ab6f62d",
   "metadata": {},
   "outputs": [
    {
     "name": "stdout",
     "output_type": "stream",
     "text": [
      "ecneics atad\n"
     ]
    }
   ],
   "source": [
    "strvar=\"data science\"\n",
    "rev=strvar[::-1]\n",
    "print(rev)"
   ]
  },
  {
   "cell_type": "markdown",
   "id": "50e407da-2957-475b-af1a-902bff9950fe",
   "metadata": {},
   "source": [
    "## 5.\tWrite a recursive function to calculate Fibonacci series up to n terms. "
   ]
  },
  {
   "cell_type": "code",
   "execution_count": 14,
   "id": "7bf20dce-b792-4445-9d65-bc76fc193995",
   "metadata": {},
   "outputs": [],
   "source": [
    "def fibonacci(n):\n",
    "    a=0\n",
    "    b=1\n",
    "    for i in range(n):\n",
    "        print(b, end = \" \")\n",
    "        a,b =b,a+b"
   ]
  },
  {
   "cell_type": "code",
   "execution_count": 15,
   "id": "94af5c19-aae0-4695-9b03-4ce074582202",
   "metadata": {},
   "outputs": [
    {
     "name": "stdout",
     "output_type": "stream",
     "text": [
      "1 1 2 3 5 8 13 21 34 55 "
     ]
    }
   ],
   "source": [
    "fibonacci(10)"
   ]
  },
  {
   "cell_type": "markdown",
   "id": "c1fc2246-ca72-42f9-a49e-d233e03a8e98",
   "metadata": {},
   "source": [
    "## 2.\tLambda Function (5 Questions) "
   ]
  },
  {
   "cell_type": "markdown",
   "id": "a34b984d-6214-47eb-84ae-ec26da759b54",
   "metadata": {},
   "source": [
    "## 6.\tWrite a lambda function to find the maximum of two numbers. "
   ]
  },
  {
   "cell_type": "code",
   "execution_count": 1,
   "id": "e46ffcaa-de97-4466-8545-84ff3871f990",
   "metadata": {},
   "outputs": [
    {
     "name": "stdout",
     "output_type": "stream",
     "text": [
      "5\n"
     ]
    }
   ],
   "source": [
    "max=lambda x,y:x if x>y else b\n",
    "print(max(5,3))"
   ]
  },
  {
   "cell_type": "markdown",
   "id": "f25d8791-1f2c-49db-b84d-a9a2150c9110",
   "metadata": {},
   "source": [
    "## 7.\tWrite a lambda function to count vowels in a given string. "
   ]
  },
  {
   "cell_type": "code",
   "execution_count": 17,
   "id": "d1cbed32-8a51-4060-8e9a-e4c72ea6ffd8",
   "metadata": {},
   "outputs": [
    {
     "name": "stdout",
     "output_type": "stream",
     "text": [
      "3\n"
     ]
    }
   ],
   "source": [
    "vowls = \"aeiou\"\n",
    "\n",
    "\n",
    "k =lambda x :sum(1 for i in x if i in vowls)\n",
    "print(k(\"programming\"))"
   ]
  },
  {
   "cell_type": "markdown",
   "id": "b71937ad-e661-468b-b6a0-5b85c0085c09",
   "metadata": {},
   "source": [
    "## 8.\tUse a lambda with map() to convert a list of integers into their cubes. "
   ]
  },
  {
   "cell_type": "code",
   "execution_count": 5,
   "id": "ea61df6d-e2a0-4452-8f85-91fd6e64762d",
   "metadata": {},
   "outputs": [
    {
     "name": "stdout",
     "output_type": "stream",
     "text": [
      "[1, 4, 27, 256, 3125]\n"
     ]
    }
   ],
   "source": [
    "int=[1,2,3,4,5]\n",
    "result=map(lambda x:x**x, int)\n",
    "print(list(result))"
   ]
  },
  {
   "cell_type": "markdown",
   "id": "4ceec048-793b-43b4-8377-94478aba5556",
   "metadata": {},
   "source": [
    "## 9.\tUse a lambda with filter() to find numbers divisible by 5 from a list. "
   ]
  },
  {
   "cell_type": "code",
   "execution_count": 3,
   "id": "8cc9e8c7-7209-49c5-9390-43bfb8037859",
   "metadata": {},
   "outputs": [
    {
     "name": "stdout",
     "output_type": "stream",
     "text": [
      "[10, 20, 35, 50]\n"
     ]
    }
   ],
   "source": [
    "numbers=[10,16,20,26,35,43,50]\n",
    "div_5= list(filter(lambda x:x%5==0,numbers))\n",
    "print(div_5)"
   ]
  },
  {
   "cell_type": "markdown",
   "id": "a54fc1a7-d924-4ba1-9f35-c90c8785df63",
   "metadata": {},
   "source": [
    "## 10.\tUse reduce() with lambda to find the product of all numbers in a list. "
   ]
  },
  {
   "cell_type": "code",
   "execution_count": 14,
   "id": "323ebaa1-36ca-4976-b608-199f59035fb8",
   "metadata": {},
   "outputs": [
    {
     "name": "stdout",
     "output_type": "stream",
     "text": [
      "Numbers: [2, 3, 4, 5]\n",
      "Product: 120\n"
     ]
    }
   ],
   "source": [
    "from functools import reduce\n",
    "numbers = [2, 3, 4, 5]\n",
    "product = reduce(lambda x, y: x * y, numbers)\n",
    "print(f\"Numbers: {numbers}\")\n",
    "print(f\"Product: {product}\")\n"
   ]
  },
  {
   "cell_type": "markdown",
   "id": "986969fd-2341-44f1-85a4-b45aecd942ca",
   "metadata": {},
   "source": [
    "# 3. List Comprehension (5 Questions) "
   ]
  },
  {
   "cell_type": "markdown",
   "id": "27013bdf-79a1-4e1f-bd74-e6e71b03f89a",
   "metadata": {},
   "source": [
    "# 11.\tCreate a list of squares of numbers from 1 to 20 using list comprehension"
   ]
  },
  {
   "cell_type": "code",
   "execution_count": 17,
   "id": "c2c34797-11db-4b73-a2f3-77033c5c9ca1",
   "metadata": {},
   "outputs": [
    {
     "name": "stdout",
     "output_type": "stream",
     "text": [
      "[0, 1, 4, 9, 16, 25, 36, 49, 64, 81, 100, 121, 144, 169, 196, 225, 256, 289, 324, 361]\n"
     ]
    }
   ],
   "source": [
    "l=[1,20]\n",
    "l1=[i**2 for i in range(20)]\n",
    "print(l1)"
   ]
  },
  {
   "cell_type": "markdown",
   "id": "8dce61c2-0d78-4d0e-9faf-b8cc994547ae",
   "metadata": {},
   "source": [
    "## 12.\tExtract all words starting with vowel from a list of words. "
   ]
  },
  {
   "cell_type": "code",
   "execution_count": 18,
   "id": "f17e8117-51c3-43ec-96b5-e68d81b3781a",
   "metadata": {},
   "outputs": [
    {
     "name": "stdin",
     "output_type": "stream",
     "text": [
      "Enter your string :  programming\n"
     ]
    },
    {
     "name": "stdout",
     "output_type": "stream",
     "text": [
      "['o', 'a', 'i']\n"
     ]
    }
   ],
   "source": [
    "stri = input(\"Enter your string : \").lower()\n",
    "count = []\n",
    "vowels = \"aeiou\"\n",
    "\n",
    "k = [ count.append(i) for i in stri if i in vowels]\n",
    "print(count)"
   ]
  },
  {
   "cell_type": "markdown",
   "id": "9558ca80-b0ba-4a73-b8f7-9651ed5f0181",
   "metadata": {},
   "source": [
    "## 13.\tGenerate a list of tuples (x, x^2) for numbers from 1 to 10. "
   ]
  },
  {
   "cell_type": "code",
   "execution_count": 36,
   "id": "d0a464a8-9a19-4af7-a52f-e54af13799dd",
   "metadata": {},
   "outputs": [
    {
     "name": "stdout",
     "output_type": "stream",
     "text": [
      "[(1, 1), (2, 4), (3, 9), (4, 16), (5, 25), (6, 36), (7, 49), (8, 64), (9, 81), (10, 100)]\n"
     ]
    }
   ],
   "source": [
    "l1=[1,11]\n",
    "list=[(x, x**2) for x in range(1,11)]\n",
    "print(list)"
   ]
  },
  {
   "cell_type": "markdown",
   "id": "0804cd26-ecba-48ca-9367-2897daa91b1a",
   "metadata": {},
   "source": [
    "# 14.Flatten a 2D list using list comprehension."
   ]
  },
  {
   "cell_type": "code",
   "execution_count": 20,
   "id": "2567281e-dac3-4957-93e8-b32b1258470c",
   "metadata": {},
   "outputs": [
    {
     "name": "stdout",
     "output_type": "stream",
     "text": [
      "[1, 2, 3, 4, 5, 6]\n"
     ]
    }
   ],
   "source": [
    "nested = [[1,2],[3,4],[5,6]]\n",
    "list=[x for i in nested for x in i]\n",
    "print(list)"
   ]
  },
  {
   "cell_type": "markdown",
   "id": "bcd35b80-f1a7-4326-96b5-3114971eecb7",
   "metadata": {},
   "source": [
    "## 15.\tCreate a list of prime numbers between 1 and 50 using list comprehension"
   ]
  },
  {
   "cell_type": "code",
   "execution_count": 20,
   "id": "514f9a55-52dc-49bd-9a48-5407e17b169d",
   "metadata": {},
   "outputs": [
    {
     "name": "stdout",
     "output_type": "stream",
     "text": [
      "[1, 3, 5, 7, 9, 11, 13, 15, 17, 19, 21, 23, 25, 27, 29, 31, 33, 35, 37, 39, 41, 43, 45, 47, 49]\n"
     ]
    }
   ],
   "source": [
    "lis=[i for i in range(50) if i %2==1]\n",
    "print(lis)"
   ]
  },
  {
   "cell_type": "markdown",
   "id": "df444a20-23a8-4d99-aa19-2a139abe9e46",
   "metadata": {},
   "source": [
    "# 4. Class (5 Questions) "
   ]
  },
  {
   "cell_type": "markdown",
   "id": "6db65bd0-1021-460c-975d-3cc6ebbfe9a4",
   "metadata": {},
   "source": [
    "## 16.\tCreate a class Student with attributes name and marks, and a method to display details. "
   ]
  },
  {
   "cell_type": "code",
   "execution_count": 24,
   "id": "235cbbdf-490b-4aff-9bec-46371c7e5a0d",
   "metadata": {},
   "outputs": [],
   "source": [
    " class student:\n",
    "     def __init__(self,name,marks):\n",
    "         self.name=name\n",
    "         self.marks=marks\n",
    " obj=student(\"siri\",25)    "
   ]
  },
  {
   "cell_type": "code",
   "execution_count": 25,
   "id": "86c1ec19-fb0e-43ce-9f94-03f3de266de7",
   "metadata": {},
   "outputs": [
    {
     "data": {
      "text/plain": [
       "'siri'"
      ]
     },
     "execution_count": 25,
     "metadata": {},
     "output_type": "execute_result"
    }
   ],
   "source": [
    "obj.name\n"
   ]
  },
  {
   "cell_type": "code",
   "execution_count": 26,
   "id": "c471fc3e-16c4-49ab-91b1-b9fedc1d88d2",
   "metadata": {},
   "outputs": [
    {
     "data": {
      "text/plain": [
       "25"
      ]
     },
     "execution_count": 26,
     "metadata": {},
     "output_type": "execute_result"
    }
   ],
   "source": [
    "obj.marks"
   ]
  },
  {
   "cell_type": "markdown",
   "id": "8df046a4-47fe-448d-9afa-6677bd143110",
   "metadata": {},
   "source": [
    "## 17.\tCreate a class BankAccount with deposit and withdraw methods"
   ]
  },
  {
   "cell_type": "code",
   "execution_count": 28,
   "id": "69ad8669-c70f-4eb1-9d70-0c1e69d85f2d",
   "metadata": {},
   "outputs": [
    {
     "name": "stdout",
     "output_type": "stream",
     "text": [
      "Deposited 500. New balance: 1500\n",
      "Withdrew 200. New balance: 1300\n",
      "1300\n"
     ]
    }
   ],
   "source": [
    "class BankAccount:\n",
    "    def __init__(self, account_holder, balance):\n",
    "        self.account_holder = account_holder\n",
    "        self.__balance = balance  # Private attribute\n",
    "\n",
    "    def deposit(self, amount):\n",
    "        if amount > 0:\n",
    "            self.__balance += amount\n",
    "            return f\"Deposited {amount}. New balance: {self.__balance}\"\n",
    "        return \"Invalid deposit amount\"\n",
    "\n",
    "    def withdraw(self, amount):\n",
    "        if 0 < amount <= self.__balance:\n",
    "            self.__balance -= amount\n",
    "            return f\"Withdrew {amount}. New balance: {self.__balance}\"\n",
    "        return \"Invalid withdrawal amount\"\n",
    "\n",
    "    def get_balance(self):\n",
    "        return self.__balance\n",
    "\n",
    "\n",
    "    account = BankAccount(\"Alice\", 1000)\n",
    "    print(account.deposit(500))  # Deposited 500. New balance: 1500\n",
    "    print(account.withdraw(200))  # Withdrew 200. New balance: 1300\n",
    "    print(account.get_balance())  # 1300\n",
    "    # print(account.__balance) \n"
   ]
  },
  {
   "cell_type": "markdown",
   "id": "be23a0a5-eec0-431a-b51f-7f058125ac68",
   "metadata": {},
   "source": [
    "## 18.\tCreate a class Circle with a method to calculate area and circumference. "
   ]
  },
  {
   "cell_type": "code",
   "execution_count": 21,
   "id": "215750f7-66a3-4737-99d9-2a6d2bbc4ee3",
   "metadata": {},
   "outputs": [],
   "source": [
    "pi=3.14\n",
    "class Circle:\n",
    "    def __init__(self,radius):\n",
    "        self.radius=radius\n",
    "    def area(self):\n",
    "        return pi*(self.radius**2)\n",
    "    def cricumference(self):\n",
    "        return 2 *pi *self.radius\n",
    "\n",
    "        "
   ]
  },
  {
   "cell_type": "code",
   "execution_count": 22,
   "id": "37747707-a56c-428f-a5fb-21a759dcb3d4",
   "metadata": {},
   "outputs": [],
   "source": [
    "obj = Circle(5)"
   ]
  },
  {
   "cell_type": "code",
   "execution_count": 23,
   "id": "e73fb912-67ee-4b53-9673-84d67403f806",
   "metadata": {},
   "outputs": [
    {
     "data": {
      "text/plain": [
       "78.5"
      ]
     },
     "execution_count": 23,
     "metadata": {},
     "output_type": "execute_result"
    }
   ],
   "source": [
    "obj.area()"
   ]
  },
  {
   "cell_type": "code",
   "execution_count": 26,
   "id": "575c2a1e-6d70-498c-bbd1-e4ebf5ca71b6",
   "metadata": {},
   "outputs": [
    {
     "data": {
      "text/plain": [
       "31.400000000000002"
      ]
     },
     "execution_count": 26,
     "metadata": {},
     "output_type": "execute_result"
    }
   ],
   "source": [
    "obj.cricumference()"
   ]
  },
  {
   "cell_type": "markdown",
   "id": "01e24dbb-373c-4f02-8b3d-102eaf3c1115",
   "metadata": {},
   "source": [
    "## 19.\tCreate a class Employee that increases salary by 10%. "
   ]
  },
  {
   "cell_type": "code",
   "execution_count": 30,
   "id": "2ab4c26f-3d92-4500-8af5-7d18fc16031a",
   "metadata": {},
   "outputs": [],
   "source": [
    "class Employee:\n",
    "    def __init__(self,salary):\n",
    "        self.salary=salary\n",
    "    def increase_salary(self):\n",
    "        return self.salary * 1.10\n"
   ]
  },
  {
   "cell_type": "code",
   "execution_count": 31,
   "id": "8173573c-53dc-46a6-bdb1-5161f31dc172",
   "metadata": {},
   "outputs": [],
   "source": [
    "onj = Employee(90000)"
   ]
  },
  {
   "cell_type": "code",
   "execution_count": 32,
   "id": "b0616398-1abf-4d2e-be81-ede3633dbafa",
   "metadata": {},
   "outputs": [
    {
     "data": {
      "text/plain": [
       "99000.00000000001"
      ]
     },
     "execution_count": 32,
     "metadata": {},
     "output_type": "execute_result"
    }
   ],
   "source": [
    "onj.increase_salary()"
   ]
  },
  {
   "cell_type": "markdown",
   "id": "81ea37bf-c1ac-4d33-a947-704f4e72b67c",
   "metadata": {},
   "source": [
    "## 20.\tCreate a class Car with methods to start, stop, and display status. "
   ]
  },
  {
   "cell_type": "code",
   "execution_count": 7,
   "id": "693e9774-e401-4fbe-a5ff-22e95491f54c",
   "metadata": {},
   "outputs": [],
   "source": [
    "class Car:\n",
    "    def __init__(self,start,stop):\n",
    "        self.start=start\n",
    "        self.stop=stop"
   ]
  },
  {
   "cell_type": "code",
   "execution_count": 8,
   "id": "73e4c31d-7cf4-465a-9faa-c74d4346621c",
   "metadata": {},
   "outputs": [],
   "source": [
    "car = Car(\"Car is start\",\"Car is stop\")"
   ]
  },
  {
   "cell_type": "code",
   "execution_count": 9,
   "id": "70419dea-71ae-4678-b35d-e81f838904ce",
   "metadata": {},
   "outputs": [
    {
     "data": {
      "text/plain": [
       "'Car is start'"
      ]
     },
     "execution_count": 9,
     "metadata": {},
     "output_type": "execute_result"
    }
   ],
   "source": [
    "car.start"
   ]
  },
  {
   "cell_type": "code",
   "execution_count": null,
   "id": "94d32aa2-0d8b-4540-8c33-7b78a7087af5",
   "metadata": {},
   "outputs": [],
   "source": [
    "car.stop"
   ]
  },
  {
   "cell_type": "markdown",
   "id": "52faedda-56a1-4b32-ae83-bc29a1c22cf0",
   "metadata": {},
   "source": [
    "# 5. Inheritance (5 Questions) "
   ]
  },
  {
   "cell_type": "markdown",
   "id": "8eb152b2-6a32-4fc6-aa5c-f17a9090d2d2",
   "metadata": {},
   "source": [
    "## 21.\tCreate a base class Animal and a derived class Dog that overrides a method"
   ]
  },
  {
   "cell_type": "code",
   "execution_count": 32,
   "id": "1d846bb7-f5e5-4af1-914b-238113a43620",
   "metadata": {},
   "outputs": [],
   "source": [
    "\n",
    "class Animal:\n",
    "    def make_sound(self):\n",
    "        pass   #  This is a placeholder; subclasses will override it\n",
    "class Dog(Animal):\n",
    "    def make_sound(self):\n",
    "        return \"Woof!\""
   ]
  },
  {
   "cell_type": "code",
   "execution_count": 35,
   "id": "477819d7-bed4-42a7-9d7a-d603ff8ef5dd",
   "metadata": {},
   "outputs": [],
   "source": [
    "o1=Dog()\n"
   ]
  },
  {
   "cell_type": "code",
   "execution_count": 37,
   "id": "76cb8582-17aa-41fa-b069-e755347a3580",
   "metadata": {},
   "outputs": [
    {
     "name": "stdout",
     "output_type": "stream",
     "text": [
      "Woof!\n"
     ]
    }
   ],
   "source": [
    "animals=[o1]\n",
    "animals\n",
    "\n",
    "for animal in animals:\n",
    "    print(animal.make_sound())"
   ]
  },
  {
   "cell_type": "markdown",
   "id": "a99983fa-1fc1-4467-8790-a0af7a0dd590",
   "metadata": {},
   "source": [
    "## 22.\tCreate a base class Shape with method area(). Inherit Rectangle and Circle classes to implement area calculation. "
   ]
  },
  {
   "cell_type": "code",
   "execution_count": 1,
   "id": "07e11f92-2eaf-41dc-ae54-47863d74443b",
   "metadata": {},
   "outputs": [
    {
     "data": {
      "text/plain": [
       "70"
      ]
     },
     "execution_count": 1,
     "metadata": {},
     "output_type": "execute_result"
    }
   ],
   "source": [
    "class shape:\n",
    "    def area(self):\n",
    "        pass\n",
    "\n",
    "class rectangle(shape):\n",
    "    def area(self,length,width):\n",
    "        self.length=length\n",
    "        self.width=width\n",
    "        return self.length*self.width\n",
    "        print(\"area of rectangle is : -\",area)\n",
    "\n",
    "class circle(shape):\n",
    "    def area(self,radius):\n",
    "        self.radius=radius\n",
    "        import math as mt\n",
    "        return mt.pi*self.radius**2\n",
    "        print(\"area of circle is : -\",area)\n",
    "\n",
    "\n",
    "obj_shape=shape()\n",
    "\n",
    "obj2=circle()\n",
    "obj3=rectangle()\n",
    "obj3.area(10,7)"
   ]
  },
  {
   "cell_type": "code",
   "execution_count": 2,
   "id": "0a7cc062-539c-4223-a25d-35b31a27cdb4",
   "metadata": {},
   "outputs": [
    {
     "data": {
      "text/plain": [
       "78.53981633974483"
      ]
     },
     "execution_count": 2,
     "metadata": {},
     "output_type": "execute_result"
    }
   ],
   "source": [
    "obj2.area(5)"
   ]
  },
  {
   "cell_type": "markdown",
   "id": "aba18fb7-b6f3-4b77-8b44-2eb38bde9503",
   "metadata": {},
   "source": [
    "## 23.\tCreate a Person class and inherit Student and Teacher from it with additional attributes. "
   ]
  },
  {
   "cell_type": "code",
   "execution_count": 49,
   "id": "1bf12feb-21e2-4ad8-9e9e-98609d9a7153",
   "metadata": {},
   "outputs": [],
   "source": [
    "class Person:\n",
    "    def __init__(self,name,age):\n",
    "        self.name =name\n",
    "        self.age=age\n",
    "    def show_detail(self):\n",
    "        return f\"Name is {self.name} and age is {self.age}\"\n",
    "\n",
    "class Student(Person):\n",
    "    def __init__(self,name,age,student_id,grade):\n",
    "        super().__init__(name,age)\n",
    "        self.student_id=student_id\n",
    "        self.grade=grade\n",
    "    def show_detail(self):\n",
    "        return f\" Student = { super().show_detail() } , student id ={self.student_id} and grade is {self.grade}     \"\n",
    "\n",
    "class Teacher(Person):\n",
    "    def __init__(self,name,age,experience,salary):\n",
    "        super().__init__(name,age)\n",
    "        self.experience =experience\n",
    "        self.salary=salary\n",
    "    def show_detail(self):\n",
    "        return f\"Teacher = {super().show_detail()} and its have Experience of {self.experience} and is expected salary is {self.salary}      \""
   ]
  },
  {
   "cell_type": "code",
   "execution_count": 50,
   "id": "8672173b-7932-482b-84e4-48d1f30e5bc5",
   "metadata": {},
   "outputs": [],
   "source": [
    "obj =Person(\"Rohit\" , 16)"
   ]
  },
  {
   "cell_type": "code",
   "execution_count": 51,
   "id": "ca950b3c-2778-49ea-a9e1-e765ff49454a",
   "metadata": {},
   "outputs": [],
   "source": [
    "s1 = Student(\"Rahul\", 16, \"S101\", \"10th Grade\")\n",
    "t1 = Teacher(\"Mr. Sharma\", 50,5,89000)"
   ]
  },
  {
   "cell_type": "code",
   "execution_count": 52,
   "id": "316287e3-0e2d-49d9-b875-3d27df9fa98d",
   "metadata": {},
   "outputs": [
    {
     "data": {
      "text/plain": [
       "' Student = Name is Rahul and age is 16 , student id =S101 and grade is 10th Grade     '"
      ]
     },
     "execution_count": 52,
     "metadata": {},
     "output_type": "execute_result"
    }
   ],
   "source": [
    "s1.show_detail()"
   ]
  },
  {
   "cell_type": "code",
   "execution_count": 53,
   "id": "3ed85d5b-2f7a-419f-97d1-f09c569a9a12",
   "metadata": {},
   "outputs": [
    {
     "data": {
      "text/plain": [
       "'Teacher = Name is Mr. Sharma and age is 50 and its have Experience of 5 and is expected salary is 89000      '"
      ]
     },
     "execution_count": 53,
     "metadata": {},
     "output_type": "execute_result"
    }
   ],
   "source": [
    "t1.show_detail()"
   ]
  },
  {
   "cell_type": "markdown",
   "id": "66ebc283-a42e-4197-b49c-96c72673704b",
   "metadata": {},
   "source": [
    "## 24.\tCreate a Vehicle class and inherit Car and Bike with their specific features. "
   ]
  },
  {
   "cell_type": "code",
   "execution_count": 55,
   "id": "31fc2eef-7f64-4b77-acec-7b6a332cff86",
   "metadata": {},
   "outputs": [],
   "source": [
    "class Vehicle:\n",
    "    def __init__(self,brand, model):\n",
    "        self.brand = brand\n",
    "        self.model = model\n",
    "    def feature(self):\n",
    "        return f\"This is a brand of {self.brand} , This is model of your vehicel {self.model}\"\n",
    "\n",
    "\n",
    "class Car(Vehicle):\n",
    "    def __init__(self,brand, model,fuel_type):\n",
    "        super().__init__(brand,model)\n",
    "        self.fuel_type=fuel_type\n",
    "    def feature(self):\n",
    "        return f\"Car -> {super().feature()}, Fuel type: {self.fuel_type}\"\n",
    "\n",
    "\n",
    "class Bike(Vehicle):\n",
    "    def __init__(self,brand,model,cc):\n",
    "        super().__init__(brand,model)\n",
    "        self.cc=cc\n",
    "    def feature(self):\n",
    "\n",
    "        return f\"Bike -> {super().feature()},CC:{self.cc}\""
   ]
  },
  {
   "cell_type": "code",
   "execution_count": 56,
   "id": "5eb0e104-4a45-43c7-88f6-0f007c95c038",
   "metadata": {},
   "outputs": [],
   "source": [
    "s1=Car(\"BMW\",\"M4\",\"Petrol\")\n",
    "s2=Bike(\"TVS\",\"XL-100\",\"10000cc\")"
   ]
  },
  {
   "cell_type": "code",
   "execution_count": 57,
   "id": "371e47e3-e1f5-40c5-9f92-8d21ca2594d9",
   "metadata": {},
   "outputs": [
    {
     "data": {
      "text/plain": [
       "'Car -> This is a brand of BMW , This is model of your vehicel M4, Fuel type: Petrol'"
      ]
     },
     "execution_count": 57,
     "metadata": {},
     "output_type": "execute_result"
    }
   ],
   "source": [
    "s1.feature()"
   ]
  },
  {
   "cell_type": "code",
   "execution_count": 58,
   "id": "3dc272af-efe3-4a3f-b15b-9e4dfd0ac1d5",
   "metadata": {},
   "outputs": [
    {
     "data": {
      "text/plain": [
       "'BMW'"
      ]
     },
     "execution_count": 58,
     "metadata": {},
     "output_type": "execute_result"
    }
   ],
   "source": [
    "s1.brand"
   ]
  },
  {
   "cell_type": "code",
   "execution_count": 64,
   "id": "c1fe3fb3-2df4-4ab7-bb57-ae93a3eca6f8",
   "metadata": {},
   "outputs": [
    {
     "data": {
      "text/plain": [
       "'TVS'"
      ]
     },
     "execution_count": 64,
     "metadata": {},
     "output_type": "execute_result"
    }
   ],
   "source": [
    "s2.brand"
   ]
  },
  {
   "cell_type": "code",
   "execution_count": 65,
   "id": "4b13866f-5d5d-445a-98f1-0b495111ca32",
   "metadata": {},
   "outputs": [
    {
     "data": {
      "text/plain": [
       "'XL-100'"
      ]
     },
     "execution_count": 65,
     "metadata": {},
     "output_type": "execute_result"
    }
   ],
   "source": [
    "s2.model"
   ]
  },
  {
   "cell_type": "markdown",
   "id": "c15642a0-7894-4a84-bbf2-cdda24d35093",
   "metadata": {},
   "source": [
    "## 25.\tDemonstrate multiple inheritance with a StudentAthlete class (inheriting from Student and Athlete). "
   ]
  },
  {
   "cell_type": "code",
   "execution_count": 72,
   "id": "ad1b776b-2ac9-494d-a51c-ed15804cd448",
   "metadata": {},
   "outputs": [],
   "source": [
    "class Student:\n",
    "    def student_info(self):\n",
    "        dic ={\"name\":\"Raj\",\"Section\":\"A\"}\n",
    "        print(dic)\n",
    "class Athlete(Student): #child class\n",
    "    def student_athlete(self,):\n",
    "        return f\"Student is also Athlete\"\n",
    "\n",
    "class StudentAthlete(Athlete):#child class\n",
    "    pass"
   ]
  },
  {
   "cell_type": "code",
   "execution_count": 76,
   "id": "04c9e2da-411a-4f69-b66f-65df8e960394",
   "metadata": {},
   "outputs": [],
   "source": [
    "obj = StudentAthlete()"
   ]
  },
  {
   "cell_type": "code",
   "execution_count": 77,
   "id": "121c1b28-6984-48fb-838d-ae395b537823",
   "metadata": {},
   "outputs": [
    {
     "name": "stdout",
     "output_type": "stream",
     "text": [
      "{'name': 'Raj', 'Section': 'A'}\n"
     ]
    }
   ],
   "source": [
    "obj.student_info()"
   ]
  },
  {
   "cell_type": "code",
   "execution_count": 79,
   "id": "188bbda2-f660-4e35-8769-50d5c8896505",
   "metadata": {},
   "outputs": [
    {
     "data": {
      "text/plain": [
       "'Student is also Athlete'"
      ]
     },
     "execution_count": 79,
     "metadata": {},
     "output_type": "execute_result"
    }
   ],
   "source": [
    "obj.student_athlete()"
   ]
  },
  {
   "cell_type": "markdown",
   "id": "35667850-b0d3-4b98-9a42-976105382a12",
   "metadata": {},
   "source": [
    "# 6. Polymorphism (5 Questions) "
   ]
  },
  {
   "cell_type": "markdown",
   "id": "7fcb7ac3-9c04-4ba5-9c63-ff8b74a05f27",
   "metadata": {},
   "source": [
    "## 26.\tCreate two classes Cat and Dog with the same method speak(). Demonstrate polymorphism. "
   ]
  },
  {
   "cell_type": "code",
   "execution_count": 10,
   "id": "9ad26be3-12ed-418f-ab79-e85fdf31db68",
   "metadata": {},
   "outputs": [
    {
     "name": "stdout",
     "output_type": "stream",
     "text": [
      "Meow!\n",
      "Bark!\n"
     ]
    }
   ],
   "source": [
    "class animal:\n",
    "    def make_speak(self):\n",
    "        pass\n",
    "\n",
    "\n",
    "class Cat(animal):\n",
    "    def make_speak(self):\n",
    "        return \"Meow!\"\n",
    "\n",
    "\n",
    "class Dog(animal):\n",
    "    def make_speak(self):\n",
    "        return \"Bark!\"\n",
    "\n",
    "c = Cat()\n",
    "d = Dog()\n",
    "\n",
    "animal=[c,d]\n",
    "\n",
    "\n",
    "for animals in animal:\n",
    "    print(animals.make_speak())\n"
   ]
  },
  {
   "cell_type": "markdown",
   "id": "d35518e5-a0c8-4950-ae58-8d30b8ebc8a5",
   "metadata": {},
   "source": [
    "## 27.\tDemonstrate operator overloading by implementing addition of two Vector objects. "
   ]
  },
  {
   "cell_type": "code",
   "execution_count": 5,
   "id": "9dedc23e-d002-433c-af79-fd9f9e853ce7",
   "metadata": {},
   "outputs": [
    {
     "name": "stdout",
     "output_type": "stream",
     "text": [
      "Vector 1: (2, 3)\n",
      "Vector 2: (4, 5)\n",
      "Added Vector: (6, 8)\n"
     ]
    }
   ],
   "source": [
    "class Vector:\n",
    "    def __init(self,x,y):\n",
    "        self.x=x\n",
    "        self.y=y\n",
    "    def _add_(self,other):\n",
    "        return Vector(self.x + other.x, self.y+ other.y)\n",
    "\n",
    "class Vector:\n",
    "    def __init__(self,x,y):\n",
    "        self.x = x\n",
    "        self.y = y\n",
    "\n",
    "    def __add__(self,other) :\n",
    "        return Vector(self.x + other.x, self.y + other.y)\n",
    "\n",
    "    def __str__(self):\n",
    "        return f\"({self.x}, {self.y})\"\n",
    "\n",
    "v1 = Vector(2, 3)\n",
    "v2 = Vector(4, 5)\n",
    "\n",
    "v3=v1+v2\n",
    "\n",
    "print(\"Vector 1:\", v1)\n",
    "print(\"Vector 2:\", v2)\n",
    "print(\"Added Vector:\", v3)\n",
    "\n"
   ]
  },
  {
   "cell_type": "markdown",
   "id": "377cdcfe-45a1-4692-bc20-b18cc40f9481",
   "metadata": {},
   "source": [
    "## 28.\tDemonstrate method overloading using default parameters. "
   ]
  },
  {
   "cell_type": "code",
   "execution_count": 83,
   "id": "850db030-027b-4cef-a539-fbca762b75fa",
   "metadata": {},
   "outputs": [
    {
     "data": {
      "text/plain": [
       "0"
      ]
     },
     "execution_count": 83,
     "metadata": {},
     "output_type": "execute_result"
    }
   ],
   "source": [
    "class Overloading:\n",
    "    def add(self,x=0,y=0,z=0):\n",
    "        return x*y*z\n",
    "\n",
    "\n",
    "Cal = Overloading()\n",
    "Cal.add(4,)"
   ]
  },
  {
   "cell_type": "markdown",
   "id": "b7b605d2-7336-427c-bf75-3ae0b99aeb00",
   "metadata": {},
   "source": [
    "## 29.\tCreate a base class Shape with draw() method and override it in derived classes. "
   ]
  },
  {
   "cell_type": "code",
   "execution_count": 84,
   "id": "343d8d70-a38f-4d0a-bfb5-5644874f5344",
   "metadata": {},
   "outputs": [
    {
     "name": "stdout",
     "output_type": "stream",
     "text": [
      "Rectangle is drawing\n",
      "Circle is drawing\n"
     ]
    }
   ],
   "source": [
    "class Shape:\n",
    "    def draw(self):\n",
    "        return \"Shape is drawing\"\n",
    "\n",
    "class Circle(Shape):\n",
    "    def draw(self):\n",
    "        return \"Circle is drawing\"\n",
    "\n",
    "class Rectangle(Shape):\n",
    "    def draw(self):\n",
    "        return \"Rectangle is drawing\"\n",
    "\n",
    "\n",
    "shapes = [Rectangle(), Circle()]\n",
    "\n",
    "for s in shapes:\n",
    "    print(s.draw())  \n",
    "\n",
    "    "
   ]
  },
  {
   "cell_type": "markdown",
   "id": "c3a99ee0-4c28-41c1-a77b-4e1a01ad8f60",
   "metadata": {},
   "source": [
    "## 30.\tDemonstrate duck typing with classes having the same method name. "
   ]
  },
  {
   "cell_type": "code",
   "execution_count": 42,
   "id": "1e8d76e7-e937-4f81-9490-0f2f0e41ced4",
   "metadata": {},
   "outputs": [
    {
     "name": "stdout",
     "output_type": "stream",
     "text": [
      "print a students details \n",
      "print the class type of students\n"
     ]
    }
   ],
   "source": [
    "class ineuron4:\n",
    "    def students(self):\n",
    "        print(\"print a students details \")\n",
    "\n",
    "class class_type :\n",
    "    def student(self):\n",
    "        print(\"print the class type of students\")\n",
    "\n",
    "def ineuron_external(a,b):\n",
    "    a.students()\n",
    "    b.student()\n",
    "\n",
    "ineuron_external(ineuron4(),class_type())    "
   ]
  },
  {
   "cell_type": "markdown",
   "id": "6dfc923f-08c8-4216-abd4-d053dc3616fc",
   "metadata": {},
   "source": [
    "# 7. Encapsulation (5 Questions) "
   ]
  },
  {
   "cell_type": "markdown",
   "id": "f5cd9710-2483-41b1-9adc-7d8fe398c2ed",
   "metadata": {},
   "source": [
    "## 31.\tCreate a class Account with private balance attribute and provide methods to deposit and withdraw. "
   ]
  },
  {
   "cell_type": "code",
   "execution_count": 43,
   "id": "a994dd96-d753-433f-88f1-d930992d67b0",
   "metadata": {},
   "outputs": [
    {
     "name": "stdout",
     "output_type": "stream",
     "text": [
      "Deposited 500. New balance: 1500\n",
      "Withdrew 200. New balance: 1300\n"
     ]
    }
   ],
   "source": [
    "class BankAccount:\n",
    "    def __init__(self, account_holder, balance):\n",
    "        self.account_holder = account_holder\n",
    "        self.__balance = balance  # Private attribute\n",
    "\n",
    "    def deposit(self, amount):\n",
    "        if amount > 0:\n",
    "            self.__balance += amount\n",
    "            return f\"Deposited {amount}. New balance: {self.__balance}\"\n",
    "        return \"Invalid deposit amount\"\n",
    "\n",
    "    def withdraw(self, amount):\n",
    "        if 0 < amount <= self.__balance:\n",
    "            self.__balance -= amount\n",
    "            return f\"Withdrew {amount}. New balance: {self.__balance}\"\n",
    "        return \"Invalid withdrawal amount\"\n",
    "\n",
    "\n",
    "account = BankAccount(\"Alice\", 1000)\n",
    "print(account.deposit(500))  # Deposited 500. New balance: 1500\n",
    "print(account.withdraw(200)) \n"
   ]
  },
  {
   "cell_type": "markdown",
   "id": "337181b2-505d-4c0c-8882-80dcac0ba654",
   "metadata": {},
   "source": [
    "## 32.\tCreate a class with private attributes and use getter and setter methods to access them. "
   ]
  },
  {
   "cell_type": "code",
   "execution_count": 6,
   "id": "f2bcbde7-08cd-4890-91fa-df7cb7f55098",
   "metadata": {},
   "outputs": [
    {
     "data": {
      "text/plain": [
       "21"
      ]
     },
     "execution_count": 6,
     "metadata": {},
     "output_type": "execute_result"
    }
   ],
   "source": [
    "class Person:\n",
    "    def __init__(self,name,age):\n",
    "        self.name = name\n",
    "        self.__age = age  #private attribute\n",
    "\n",
    "    def get_age(self):\n",
    "        return self.__age\n",
    "\n",
    "    def set_age(self,new_age):\n",
    "        if new_age >=0:\n",
    "            self.__age = new_age\n",
    "        else:\n",
    "            print(\"Age cannot be negative\")\n",
    "\n",
    "gs=Person(\"sakshi\",20)\n",
    "gs.set_age(21)\n",
    "gs.get_age()"
   ]
  },
  {
   "cell_type": "markdown",
   "id": "669d5503-b608-4855-8f27-c29a3dfd303e",
   "metadata": {},
   "source": [
    "## 33.\tDemonstrate name mangling with private variables. "
   ]
  },
  {
   "cell_type": "code",
   "execution_count": 86,
   "id": "2fd872e7-93bc-4d83-9c64-247e31493d7e",
   "metadata": {},
   "outputs": [
    {
     "name": "stdout",
     "output_type": "stream",
     "text": [
      "siri\n"
     ]
    }
   ],
   "source": [
    "class PrivateName:\n",
    "    def __init__(self,name):\n",
    "        self.__name=name\n",
    "        \n",
    "obj = PrivateName(\"siri\")\n",
    "print(obj._PrivateName__name)"
   ]
  },
  {
   "cell_type": "markdown",
   "id": "26bf8c54-09a0-495a-8598-da2ad06b854a",
   "metadata": {},
   "source": [
    "## 34.\tCreate a class Bank with encapsulated methods to show account details securely. "
   ]
  },
  {
   "cell_type": "code",
   "execution_count": 87,
   "id": "2194c10e-0513-4d0d-a225-21faae33dba9",
   "metadata": {},
   "outputs": [],
   "source": [
    "class Bank:\n",
    "    def __init__(self,account_number, name, balance, pin):\n",
    "        self.__account_number = account_number\n",
    "        self.__name = name \n",
    "        self.__balance = balance\n",
    "        self.__pin=pin\n",
    "\n",
    "\n",
    "    def deposite(self,amount):\n",
    "        if amount>0:\n",
    "            self.__balance+=amount\n",
    "            return f\"Deposited {amount}. New balance: {self.__balance}\"\n",
    "        return \"Invalid deposit amount\"\n",
    "\n",
    "\n",
    "    def Withdrawal(self,amount,pin):\n",
    "        if pin!=self.__pin:\n",
    "            return \"Incoorect Pin\"\n",
    "        if 0 < amount <= self.__balance:\n",
    "            self.__balance -= amount\n",
    "            return f\"Withdrew {amount}. New balance: {self.__balance}\"\n",
    "        return \"Invalid withdrawal amount\"\n",
    "\n",
    "\n",
    "\n",
    "    def show_detail(self,pin):\n",
    "        if pin==self.__pin:\n",
    "            return f\"Account Number: {self.__account_number}  Name: {self.__name}    Balance: {self.__balance}\"\n",
    "        else:\n",
    "            return \"Access denied! Incorrect PIN.\"\n",
    "            \n"
   ]
  },
  {
   "cell_type": "code",
   "execution_count": 88,
   "id": "e8d361bb-030a-4ac6-af7d-13835823dc32",
   "metadata": {},
   "outputs": [],
   "source": [
    "my_account = Bank(1268895647 , \"Pritesh ingle\" , 60000,1234)"
   ]
  },
  {
   "cell_type": "code",
   "execution_count": 89,
   "id": "e81bd9c1-2ae7-4e26-b17c-156a2287fbff",
   "metadata": {},
   "outputs": [
    {
     "data": {
      "text/plain": [
       "'Deposited 700. New balance: 60700'"
      ]
     },
     "execution_count": 89,
     "metadata": {},
     "output_type": "execute_result"
    }
   ],
   "source": [
    "my_account.deposite(700)"
   ]
  },
  {
   "cell_type": "code",
   "execution_count": 90,
   "id": "d677e5c1-2516-4e27-aeb9-e51a78f368c0",
   "metadata": {},
   "outputs": [
    {
     "data": {
      "text/plain": [
       "'Withdrew 60000. New balance: 700'"
      ]
     },
     "execution_count": 90,
     "metadata": {},
     "output_type": "execute_result"
    }
   ],
   "source": [
    "my_account.Withdrawal(60000,1234)"
   ]
  },
  {
   "cell_type": "code",
   "execution_count": 91,
   "id": "baa48022-8946-4ee0-b6fa-b0adc00004bc",
   "metadata": {},
   "outputs": [
    {
     "data": {
      "text/plain": [
       "'Account Number: 1268895647  Name: Pritesh ingle    Balance: 700'"
      ]
     },
     "execution_count": 91,
     "metadata": {},
     "output_type": "execute_result"
    }
   ],
   "source": [
    "my_account.show_detail(1234)"
   ]
  },
  {
   "cell_type": "markdown",
   "id": "7fbad719-4e99-49e2-bf66-abbe86fade08",
   "metadata": {},
   "source": [
    "## 35.\tDemonstrate encapsulation by restricting access to class attributes. "
   ]
  },
  {
   "cell_type": "code",
   "execution_count": 94,
   "id": "0f0e8b6c-310e-4b26-9de2-11b10aae1c59",
   "metadata": {},
   "outputs": [
    {
     "name": "stdout",
     "output_type": "stream",
     "text": [
      "Invalid salary!\n"
     ]
    }
   ],
   "source": [
    "class Employee:\n",
    "    def __init__(self, salary):\n",
    "        self.__salary = salary \n",
    "\n",
    "\n",
    "    def get_salary(self):\n",
    "        return self.__salary\n",
    "\n",
    "    \n",
    "    def set_salary(self, salary):\n",
    "        if salary > 0:\n",
    "            self.__salary = salary\n",
    "        else:\n",
    "            print(\"Invalid salary!\")\n",
    "\n",
    "\n",
    "emp = Employee(50000)\n",
    "emp.get_salary()   \n",
    "\n",
    "emp.set_salary(60000)\n",
    "emp.get_salary() \n",
    "\n",
    "emp.set_salary(-1000)     \n"
   ]
  },
  {
   "cell_type": "markdown",
   "id": "aeed6813-1f7c-48e2-9c46-defab2f56740",
   "metadata": {},
   "source": [
    "## 8. Datetime Module (5 Questions) "
   ]
  },
  {
   "cell_type": "markdown",
   "id": "4797311f-1270-4ad5-8739-36b09bbb5ff7",
   "metadata": {},
   "source": [
    "## 36.\tWrite a program to display the current date and time. "
   ]
  },
  {
   "cell_type": "code",
   "execution_count": 44,
   "id": "755e5107-62ca-483f-9e7e-9381713bc933",
   "metadata": {},
   "outputs": [
    {
     "name": "stdout",
     "output_type": "stream",
     "text": [
      "now 2025-09-17 09:41:56.239423\n"
     ]
    }
   ],
   "source": [
    "from datetime import datetime\n",
    "now=datetime.now()\n",
    "print(\"now\", now)"
   ]
  },
  {
   "cell_type": "markdown",
   "id": "1bdfa3ae-f7fa-4c62-b1bf-890cc5f0bc83",
   "metadata": {},
   "source": [
    "## 37.\tWrite a program to calculate a person’s age from their date of birth"
   ]
  },
  {
   "cell_type": "code",
   "execution_count": 23,
   "id": "8c82997a-3e97-41de-9a8e-15f93b9797bc",
   "metadata": {},
   "outputs": [
    {
     "name": "stdout",
     "output_type": "stream",
     "text": [
      "Date of Birth: 2002-11-05\n",
      "Today: 2025-09-14\n",
      "Age: 23 years\n"
     ]
    }
   ],
   "source": [
    "import datetime\n",
    "dob=datetime.date(2002,11,5)\n",
    "today = datetime.date.today()\n",
    "age=today.year-dob.year\n",
    "print(f\"Date of Birth: {dob}\")\n",
    "print(f\"Today: {today}\")\n",
    "print(f\"Age: {age} years\")\n"
   ]
  },
  {
   "cell_type": "markdown",
   "id": "d01d70e0-2b71-4882-926e-5244c5ab000e",
   "metadata": {},
   "source": [
    "## 38.\tWrite a program to find the difference in days between two given dates. "
   ]
  },
  {
   "cell_type": "code",
   "execution_count": 27,
   "id": "9ee247b5-8480-46ea-9471-711cdb82b3bb",
   "metadata": {},
   "outputs": [
    {
     "name": "stdout",
     "output_type": "stream",
     "text": [
      "Difference: 61 days\n"
     ]
    }
   ],
   "source": [
    "import datetime\n",
    "date1=datetime.date(2025,9,14)\n",
    "date2=datetime.date(2025,11,14)\n",
    "difference=date2-date1\n",
    "\n",
    "print(f\"Difference: {difference.days} days\")"
   ]
  },
  {
   "cell_type": "markdown",
   "id": "cecb089c-e01c-4ffc-9ae4-c255fdaabb0a",
   "metadata": {},
   "source": [
    "## 39.\tWrite a program to print the date 30 days from today. "
   ]
  },
  {
   "cell_type": "code",
   "execution_count": 26,
   "id": "5f43b583-db90-49e5-bb5b-1942a9233adc",
   "metadata": {},
   "outputs": [
    {
     "name": "stdout",
     "output_type": "stream",
     "text": [
      "Today's Date: 2025-09-14\n",
      "Date after 30 days: 2025-10-14\n"
     ]
    }
   ],
   "source": [
    "import datetime\n",
    "today=datetime.date.today()\n",
    "print(\"Today's Date:\",today)\n",
    "future=today+datetime.timedelta(days=30)\n",
    "print(\"Date after 30 days:\",future)"
   ]
  },
  {
   "cell_type": "markdown",
   "id": "a9684dce-2c7d-482f-a7c3-73aed3d357b0",
   "metadata": {},
   "source": [
    "## 40.\tWrite a program to format today’s date as “DD/MM/YYYY” and “YYYY-MM-DD”. "
   ]
  },
  {
   "cell_type": "code",
   "execution_count": 25,
   "id": "081acaf5-8be9-43a4-beae-05cb2eb11179",
   "metadata": {},
   "outputs": [
    {
     "name": "stdout",
     "output_type": "stream",
     "text": [
      "Now: 2025-09-14 17:00:16.726722\n",
      "Today: 2025-09-14\n"
     ]
    }
   ],
   "source": [
    "import datetime\n",
    "now=datetime.datetime.now()\n",
    "print(\"Now:\", now)\n",
    "today=datetime.date.today()\n",
    "print(\"Today:\",today)"
   ]
  },
  {
   "cell_type": "markdown",
   "id": "36119c84-e179-42ce-8d70-8adba6e3f7c4",
   "metadata": {},
   "source": [
    "# 9. Math Module (5 Questions) "
   ]
  },
  {
   "cell_type": "markdown",
   "id": "dd186085-2cdf-4402-945a-dfdad7ef36c1",
   "metadata": {},
   "source": [
    "## 41.\tWrite a program to calculate factorial using math.factorial(). "
   ]
  },
  {
   "cell_type": "code",
   "execution_count": 13,
   "id": "583456bc-2bb7-4afa-bf13-05b6e2702241",
   "metadata": {},
   "outputs": [
    {
     "name": "stdout",
     "output_type": "stream",
     "text": [
      "120\n"
     ]
    }
   ],
   "source": [
    "import math as mt\n",
    "result=mt.factorial(5)\n",
    "print(result)"
   ]
  },
  {
   "cell_type": "markdown",
   "id": "3ecf5665-007d-4b0e-8a31-695fa7bbce78",
   "metadata": {},
   "source": [
    "## 42.\tWrite a program to find the greatest common divisor (GCD) of two numbers. "
   ]
  },
  {
   "cell_type": "code",
   "execution_count": 29,
   "id": "6ee43784-3ccc-423a-8ea7-676527663188",
   "metadata": {},
   "outputs": [
    {
     "name": "stdin",
     "output_type": "stream",
     "text": [
      "enter first number: 76\n",
      "enter second number: 81\n"
     ]
    },
    {
     "name": "stdout",
     "output_type": "stream",
     "text": [
      "The greatest common divisorof two number is: 1\n"
     ]
    }
   ],
   "source": [
    "import math \n",
    "\n",
    "num1=int(input(\"enter first number:\"))\n",
    "num2=int(input(\"enter second number:\"))\n",
    "\n",
    "print(\"The greatest common divisorof two number is:\",math.gcd(num1,num2))"
   ]
  },
  {
   "cell_type": "code",
   "execution_count": 45,
   "id": "8d1b3882-2db7-439c-a719-a29c0c5f23dd",
   "metadata": {},
   "outputs": [
    {
     "data": {
      "text/plain": [
       "2"
      ]
     },
     "execution_count": 45,
     "metadata": {},
     "output_type": "execute_result"
    }
   ],
   "source": [
    "import math as mt \n",
    "mt.gcd(2,4)"
   ]
  },
  {
   "cell_type": "markdown",
   "id": "f467bae5-b444-48a5-bc60-514a9ed649ae",
   "metadata": {},
   "source": [
    "## 43.\tWrite a program to calculate square root, power, and logarithm using math module"
   ]
  },
  {
   "cell_type": "code",
   "execution_count": 9,
   "id": "4c9c9494-a03d-4733-84b9-c7230bd6e77f",
   "metadata": {},
   "outputs": [
    {
     "name": "stdout",
     "output_type": "stream",
     "text": [
      "Square root of 16= 4.0\n",
      "16 raised to power 2=256.0\n",
      "Natural log t\\of 16=2.772588722239781\n"
     ]
    }
   ],
   "source": [
    "import math\n",
    "x=16\n",
    "y=2\n",
    "sqrt=math.sqrt(x)\n",
    "power=math.pow(x,y)\n",
    "log=math.log(x)\n",
    "\n",
    "print(f\"Square root of {x}= {sqrt}\")\n",
    "print(f\"{x} raised to power {y}={power}\")\n",
    "print(f\"Natural log t\\of {x}={log}\")"
   ]
  },
  {
   "cell_type": "markdown",
   "id": "afd23abd-a213-4a14-840e-a036d8b49e33",
   "metadata": {},
   "source": [
    "## 44.\tWrite a program to generate random numbers between 1 and 100 (using math and random). "
   ]
  },
  {
   "cell_type": "code",
   "execution_count": 12,
   "id": "c3b27d23-3862-4873-9c6f-0103b9bd42af",
   "metadata": {},
   "outputs": [
    {
     "name": "stdout",
     "output_type": "stream",
     "text": [
      "45\n",
      "69\n",
      "54\n",
      "83\n",
      "88\n",
      "59\n",
      "22\n",
      "10\n"
     ]
    }
   ],
   "source": [
    "\n",
    "import random\n",
    "\n",
    "for i in range(8):\n",
    "    num=random.randint(1,100)\n",
    "    print(num)"
   ]
  },
  {
   "cell_type": "markdown",
   "id": "dc31afc5-0a47-4a84-826b-b632cd7d4bb3",
   "metadata": {},
   "source": [
    "## 45.\tWrite a program to convert radians to degrees and vice versa. "
   ]
  },
  {
   "cell_type": "code",
   "execution_count": 13,
   "id": "9601cb11-ae7a-4e2b-9c56-b7d4404c7a83",
   "metadata": {},
   "outputs": [
    {
     "name": "stdout",
     "output_type": "stream",
     "text": [
      "0.8726646259971648  radians = 45.0 degree\n",
      "50 degrees = 0.8726646259971648 radians\n"
     ]
    }
   ],
   "source": [
    "import math\n",
    "radians=math.pi/4\n",
    "degrees=math.degrees(radians)\n",
    "\n",
    "degree=50\n",
    "radian=math.radians(degree)\n",
    "\n",
    "print(f\"{radian}  radians = {degrees} degree\")\n",
    "print(f\"{degree} degrees = {radian} radians\")"
   ]
  },
  {
   "cell_type": "markdown",
   "id": "f63b7280-c350-439e-9bc8-6d3c856939fc",
   "metadata": {},
   "source": [
    "# 10. Regular Expression Module (5 Questions) "
   ]
  },
  {
   "cell_type": "markdown",
   "id": "e3a54793-8ae9-42fe-b8e4-5438d445db00",
   "metadata": {},
   "source": [
    "## 46.\tWrite a regex to check if a string is a valid email address. "
   ]
  },
  {
   "cell_type": "code",
   "execution_count": 46,
   "id": "e0a61a12-31d3-4777-9268-276e0259b7ce",
   "metadata": {},
   "outputs": [
    {
     "name": "stdout",
     "output_type": "stream",
     "text": [
      "['support@example.com', 'sales@mydomain.org', '34kghig@gmail.co.in']\n"
     ]
    }
   ],
   "source": [
    "import re\n",
    "text = \"Contact us at support@example.com or sales@mydomain.org, 34kghig@gmail.co.in\"\n",
    "emails = re.findall(r'\\b[\\w.-]+@[\\w.-]+\\.\\w+\\b', text)\n",
    "print(emails)\n"
   ]
  },
  {
   "cell_type": "markdown",
   "id": "85de240f-4992-4001-b7fd-22d97e43f70d",
   "metadata": {},
   "source": [
    "## 47.\tWrite a regex to extract all numbers from a string. "
   ]
  },
  {
   "cell_type": "code",
   "execution_count": 47,
   "id": "ce3d3fa0-bb53-4582-afb7-05dc5f58cf2a",
   "metadata": {},
   "outputs": [
    {
     "name": "stdout",
     "output_type": "stream",
     "text": [
      "['7', '7', '8']\n"
     ]
    }
   ],
   "source": [
    "import re\n",
    "n = \"alll778P@ss\"\n",
    "match = re.findall(r'\\d', n)\n",
    "print(match)"
   ]
  },
  {
   "cell_type": "markdown",
   "id": "607c2af1-05e8-42da-93a6-1a21570452d3",
   "metadata": {},
   "source": [
    "## 48.\tWrite a regex to validate if a string is a valid Indian mobile number (10 digits). "
   ]
  },
  {
   "cell_type": "code",
   "execution_count": 48,
   "id": "9024cf53-0e1a-4621-9f47-ba01b2eb93ff",
   "metadata": {},
   "outputs": [
    {
     "name": "stdout",
     "output_type": "stream",
     "text": [
      "['9876543210', '919876543210', '916545438567']\n"
     ]
    }
   ],
   "source": [
    "text = \"Call me at 9876543210 or 919876543210 or +916545438567.\"\n",
    "phones = re.findall(r'\\b(?:\\+91|91)?[6-9]\\d{9}\\b', text)\n",
    "print(phones)"
   ]
  },
  {
   "cell_type": "markdown",
   "id": "fbf8c963-6815-4ca2-a751-2f74ca09db6c",
   "metadata": {},
   "source": [
    "## 49.\tWrite a regex to find all words starting with a capital letter in a sentence. "
   ]
  },
  {
   "cell_type": "code",
   "execution_count": 49,
   "id": "ebd87b5d-ef9b-42d9-9e68-1c603a6a2a7a",
   "metadata": {},
   "outputs": [
    {
     "name": "stdout",
     "output_type": "stream",
     "text": [
      "['India', 'Country', 'Taj', 'Mahal', 'Agra']\n"
     ]
    }
   ],
   "source": [
    "text = \"India is a beautiful Country with the Taj Mahal in Agra.\"\n",
    "caps = re.findall(r'\\b[A-Z][a-z]*\\b', text)\n",
    "print(caps)"
   ]
  },
  {
   "cell_type": "markdown",
   "id": "f4c39768-9e8a-4fb1-be47-6dd88c38cffd",
   "metadata": {},
   "source": [
    "## 50.\tWrite a regex to replace all spaces in a string with a hyphen. \n",
    " \n"
   ]
  },
  {
   "cell_type": "code",
   "execution_count": 50,
   "id": "2bb366a4-aa73-403d-a4e2-fddc0712f257",
   "metadata": {},
   "outputs": [
    {
     "name": "stdout",
     "output_type": "stream",
     "text": [
      "Python is great for data science.\n"
     ]
    }
   ],
   "source": [
    "text = \"Python    is   great   for  data  science.\"\n",
    "cleaned = re.sub(r'\\s+', ' ', text)\n",
    "print(cleaned)"
   ]
  },
  {
   "cell_type": "code",
   "execution_count": null,
   "id": "653c6a1e-94ad-4bf4-a629-f84dfb3a94ec",
   "metadata": {},
   "outputs": [],
   "source": []
  }
 ],
 "metadata": {
  "kernelspec": {
   "display_name": "Python 3 (ipykernel)",
   "language": "python",
   "name": "python3"
  },
  "language_info": {
   "codemirror_mode": {
    "name": "ipython",
    "version": 3
   },
   "file_extension": ".py",
   "mimetype": "text/x-python",
   "name": "python",
   "nbconvert_exporter": "python",
   "pygments_lexer": "ipython3",
   "version": "3.13.5"
  }
 },
 "nbformat": 4,
 "nbformat_minor": 5
}
