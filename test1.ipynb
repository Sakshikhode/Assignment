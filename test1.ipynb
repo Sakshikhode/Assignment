{
 "cells": [
  {
   "cell_type": "markdown",
   "id": "cc0cb3db-6727-4805-963b-20f34b3b0fc6",
   "metadata": {},
   "source": [
    "# 1. Second Largest Without Sorting"
   ]
  },
  {
   "cell_type": "markdown",
   "id": "11a56d27-4eef-4b49-900d-edb3f0c98d0b",
   "metadata": {},
   "source": [
    "# Write a program to find the second largest number in a list without using sort() or max() more than once.\n"
   ]
  },
  {
   "cell_type": "code",
   "execution_count": 5,
   "id": "2c575d20-3b86-41b3-a7b0-1fade8d70116",
   "metadata": {},
   "outputs": [
    {
     "name": "stdout",
     "output_type": "stream",
     "text": [
      "50\n"
     ]
    }
   ],
   "source": [
    "list=[10,20,30,40,50]\n",
    "s1=list[-1]\n",
    "print(s1)"
   ]
  },
  {
   "cell_type": "markdown",
   "id": "733eb4f4-c36f-4c11-a2d5-177686d5f1ae",
   "metadata": {},
   "source": [
    "# 2. Missing Number in Range\n"
   ]
  },
  {
   "cell_type": "markdown",
   "id": "8576e159-5006-4f86-99a1-2ba578e66045",
   "metadata": {},
   "source": [
    "# Input: a list of unique numbers from 1 to n (with one missing). Find the missing number using loops only.\n",
    "Example: [1, 2, 4, 5] → Output: 3\n"
   ]
  },
  {
   "cell_type": "code",
   "execution_count": null,
   "id": "3ec3a530-dad8-4a33-bc0f-f64eadd3ad6d",
   "metadata": {},
   "outputs": [],
   "source": []
  },
  {
   "cell_type": "markdown",
   "id": "56b949f2-9f8d-4fd9-a63c-2659c4e8b876",
   "metadata": {},
   "source": [
    "# 3. Count Consecutive Characters"
   ]
  },
  {
   "cell_type": "markdown",
   "id": "f5387a0d-23ed-4419-b432-14d3b894340d",
   "metadata": {},
   "source": [
    "# For a given string, count consecutive repeating characters and compress it.\n",
    "Example: \"aaabbccccd\" → \"a3b2c4d1\""
   ]
  },
  {
   "cell_type": "code",
   "execution_count": null,
   "id": "fce81a0f-b61a-4029-b5de-8b54aa4f89c5",
   "metadata": {},
   "outputs": [],
   "source": []
  },
  {
   "cell_type": "markdown",
   "id": "4bd75661-34b8-422a-a74b-53ff5095cafa",
   "metadata": {},
   "source": [
    "# 4. Check Balanced String"
   ]
  },
  {
   "cell_type": "markdown",
   "id": "0f533379-8b50-4515-a996-e85bd6b8bb91",
   "metadata": {},
   "source": [
    "# A string is balanced if the number of vowels equals the number of consonants.\n",
    "Example: \"code\" → Balanced (2 vowels, 2 consonants)."
   ]
  },
  {
   "cell_type": "code",
   "execution_count": null,
   "id": "60e9757f-f4dd-48d5-bcb9-fed0dfe7ed3c",
   "metadata": {},
   "outputs": [],
   "source": []
  },
  {
   "cell_type": "markdown",
   "id": "8a5d22bf-75f0-42c0-a459-a39baaddb817",
   "metadata": {},
   "source": [
    "# 5. List Element Difference"
   ]
  },
  {
   "cell_type": "markdown",
   "id": "a4b660ad-fde1-4628-9a37-6a38e5939ee7",
   "metadata": {},
   "source": [
    "# Given a list, create a new list where each element is the difference between the largest element and the current element.\n",
    "Example: [4, 7, 2] → [3, 0, 5]\n"
   ]
  },
  {
   "cell_type": "code",
   "execution_count": null,
   "id": "1663385d-8c1c-452b-aa13-341c909052bb",
   "metadata": {},
   "outputs": [],
   "source": []
  },
  {
   "cell_type": "markdown",
   "id": "845b572d-bd04-4a2e-9121-4735c0df0cbe",
   "metadata": {},
   "source": [
    "# 6. Digit Rearrangement"
   ]
  },
  {
   "cell_type": "markdown",
   "id": "231d57cb-80d2-4c9b-98b6-136e98d4eb3d",
   "metadata": {},
   "source": [
    "# Take an integer and rearrange its digits in descending order.\n",
    "Example: 42153 → 54321"
   ]
  },
  {
   "cell_type": "code",
   "execution_count": 8,
   "id": "7071b225-1745-486b-b1af-07b65d6acadd",
   "metadata": {},
   "outputs": [
    {
     "name": "stdin",
     "output_type": "stream",
     "text": [
      "enter a number 1234\n"
     ]
    },
    {
     "name": "stdout",
     "output_type": "stream",
     "text": [
      "4321\n"
     ]
    }
   ],
   "source": [
    "d=(input(\"enter a number\"))\n",
    "descending_order=d[::-1]\n",
    "print(descending_order)"
   ]
  },
  {
   "cell_type": "markdown",
   "id": "a5e37a6a-6527-4ddd-b3c7-322cab2a7c42",
   "metadata": {},
   "source": [
    "# 7. Sum of Alternate Numbers"
   ]
  },
  {
   "cell_type": "markdown",
   "id": "d9fea08d-bb3b-4527-b78c-45244f3ac25d",
   "metadata": {},
   "source": [
    "# Given a list of integers, find the sum of elements at even indices and at odd indices separately, then print which sum is larger.\n",
    "\n"
   ]
  },
  {
   "cell_type": "code",
   "execution_count": null,
   "id": "579e7d80-27d8-4a1d-b97f-66a0c0c46ed0",
   "metadata": {},
   "outputs": [],
   "source": []
  },
  {
   "cell_type": "markdown",
   "id": "5cdbec5d-1833-43ad-9e09-7a5a5e9fdb63",
   "metadata": {},
   "source": [
    "# 8. Flatten a Nested List"
   ]
  },
  {
   "cell_type": "markdown",
   "id": "5efd54a6-1f0c-48a8-a30f-83aceca8c9e1",
   "metadata": {},
   "source": [
    "# Without using libraries, flatten a 2D list into a 1D list.\n",
    "Example: [[1,2], [3,4], [5]] → [1,2,3,4,5]"
   ]
  },
  {
   "cell_type": "code",
   "execution_count": 26,
   "id": "cb9ec52f-e9b9-480b-af7b-c74391281efe",
   "metadata": {},
   "outputs": [
    {
     "data": {
      "text/plain": [
       "[3, 4, 5, 6, 7, 8]"
      ]
     },
     "execution_count": 26,
     "metadata": {},
     "output_type": "execute_result"
    }
   ],
   "source": [
    "s=[3,4,5],[6,7],[8]\n",
    "[j for i in s for j in i]"
   ]
  },
  {
   "cell_type": "markdown",
   "id": "9e6c0f00-91ae-4219-926b-ab6117b95d4d",
   "metadata": {},
   "source": [
    "# 9. First Non-Repeating Character"
   ]
  },
  {
   "cell_type": "markdown",
   "id": "c09c83e4-56cf-4e01-b14c-2488a652c258",
   "metadata": {},
   "source": [
    "# Find the first non-repeating character in a string.\n",
    "Example: \"swiss\" → \"w\""
   ]
  },
  {
   "cell_type": "code",
   "execution_count": null,
   "id": "4eee6082-6119-4934-b946-cfd34a0021be",
   "metadata": {},
   "outputs": [],
   "source": []
  },
  {
   "cell_type": "markdown",
   "id": "d258ff38-ff04-4e37-9c71-4a9db9a7ec0a",
   "metadata": {},
   "source": [
    "# 10. Intersection of Two Lists"
   ]
  },
  {
   "cell_type": "markdown",
   "id": "cc860320-9c49-4726-b5f5-dc0ec8dde38e",
   "metadata": {},
   "source": [
    "# Without using set(), find common elements between two lists."
   ]
  },
  {
   "cell_type": "code",
   "execution_count": 18,
   "id": "c57bcca5-77be-45d5-ab58-9fe5bfa9c965",
   "metadata": {},
   "outputs": [
    {
     "ename": "AttributeError",
     "evalue": "'list' object has no attribute 'intersection'",
     "output_type": "error",
     "traceback": [
      "\u001b[1;31m---------------------------------------------------------------------------\u001b[0m",
      "\u001b[1;31mAttributeError\u001b[0m                            Traceback (most recent call last)",
      "Cell \u001b[1;32mIn[18], line 3\u001b[0m\n\u001b[0;32m      1\u001b[0m l1\u001b[38;5;241m=\u001b[39m[\u001b[38;5;241m1\u001b[39m,\u001b[38;5;241m2\u001b[39m,\u001b[38;5;241m4\u001b[39m,\u001b[38;5;241m3\u001b[39m,\u001b[38;5;241m4\u001b[39m,\u001b[38;5;241m5\u001b[39m,\u001b[38;5;241m2\u001b[39m,\u001b[38;5;241m6\u001b[39m]\n\u001b[0;32m      2\u001b[0m l2\u001b[38;5;241m=\u001b[39m[\u001b[38;5;241m6\u001b[39m,\u001b[38;5;241m7\u001b[39m,\u001b[38;5;241m6\u001b[39m,\u001b[38;5;241m1\u001b[39m,\u001b[38;5;241m9\u001b[39m,\u001b[38;5;241m6\u001b[39m,\u001b[38;5;241m10\u001b[39m,\u001b[38;5;241m2\u001b[39m]\n\u001b[1;32m----> 3\u001b[0m s\u001b[38;5;241m=\u001b[39ml1\u001b[38;5;241m.\u001b[39mintersection(l2)\n\u001b[0;32m      4\u001b[0m \u001b[38;5;28mprint\u001b[39m(s)\n",
      "\u001b[1;31mAttributeError\u001b[0m: 'list' object has no attribute 'intersection'"
     ]
    }
   ],
   "source": [
    "l1=[1,2,4,3,4,5,2,6]\n",
    "l2=[6,7,6,1,9,6,10,2]\n",
    "s=l1.intersection(l2)\n",
    "print(s)"
   ]
  },
  {
   "cell_type": "code",
   "execution_count": null,
   "id": "e058cdf2-668a-4a2d-90af-b40c068a028c",
   "metadata": {},
   "outputs": [],
   "source": []
  },
  {
   "cell_type": "code",
   "execution_count": null,
   "id": "b45dd8d6-3a4b-4941-8b7a-8f43f22657e0",
   "metadata": {},
   "outputs": [],
   "source": []
  },
  {
   "cell_type": "markdown",
   "id": "e2bd0b1d-5a1e-4a40-ad42-944947ba89b1",
   "metadata": {},
   "source": [
    "# 11. Count Words Starting with Vowel"
   ]
  },
  {
   "cell_type": "markdown",
   "id": "f4a7bf74-3da2-4204-ac26-e7afa470ce02",
   "metadata": {},
   "source": [
    "# Given a sentence, count how many words start with a vowel.\n",
    "Example: \"An elephant is under a tree\" → 3"
   ]
  },
  {
   "cell_type": "code",
   "execution_count": null,
   "id": "b52cf22f-850d-4c11-9a20-0f1290417fab",
   "metadata": {},
   "outputs": [],
   "source": []
  },
  {
   "cell_type": "markdown",
   "id": "b3f0545d-4f36-42f7-849c-ae50bab5821d",
   "metadata": {},
   "source": [
    "# 12. Pattern with Conditions\n"
   ]
  },
  {
   "cell_type": "markdown",
   "id": "81bbb733-950a-4c66-b42a-b64c6bc5f749",
   "metadata": {},
   "source": [
    "# Print a pyramid of numbers where each row contains only odd numbers up to n.\n",
    "Example (n=5):\n",
    "\n",
    " 1\n",
    " 3 5\n",
    "7 9 11\n"
   ]
  },
  {
   "cell_type": "code",
   "execution_count": 24,
   "id": "f9736368-4a90-40d6-a460-77d3c71dea1c",
   "metadata": {},
   "outputs": [],
   "source": [
    "n = 5\n",
    "\n",
    "# Step 1: Generate odd numbers up to n\n",
    "add = []\n",
    "for i in range(1, n+1):\n",
    "    if i % 2 != 0:\n",
    "        add.append(i)"
   ]
  },
  {
   "cell_type": "code",
   "execution_count": null,
   "id": "83414f3c-5d83-4a1a-a19d-9525dfbcd391",
   "metadata": {},
   "outputs": [],
   "source": []
  }
 ],
 "metadata": {
  "kernelspec": {
   "display_name": "Python 3 (ipykernel)",
   "language": "python",
   "name": "python3"
  },
  "language_info": {
   "codemirror_mode": {
    "name": "ipython",
    "version": 3
   },
   "file_extension": ".py",
   "mimetype": "text/x-python",
   "name": "python",
   "nbconvert_exporter": "python",
   "pygments_lexer": "ipython3",
   "version": "3.13.5"
  }
 },
 "nbformat": 4,
 "nbformat_minor": 5
}
